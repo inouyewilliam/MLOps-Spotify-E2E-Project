{
 "cells": [
  {
   "attachments": {},
   "cell_type": "markdown",
   "metadata": {
    "id": "pqMl9Ouxf6yn"
   },
   "source": [
    "# Classification Report"
   ]
  },
  {
   "attachments": {},
   "cell_type": "markdown",
   "metadata": {},
   "source": [
    "## Imports"
   ]
  },
  {
   "cell_type": "code",
   "execution_count": 1,
   "metadata": {
    "id": "8FP6JHGUf6ys"
   },
   "outputs": [
    {
     "name": "stderr",
     "output_type": "stream",
     "text": [
      "c:\\Users\\willi\\anaconda3\\envs\\mlops\\Lib\\site-packages\\umap\\distances.py:1063: NumbaDeprecationWarning: \u001b[1mThe 'nopython' keyword argument was not supplied to the 'numba.jit' decorator. The implicit default value for this argument is currently False, but it will be changed to True in Numba 0.59.0. See https://numba.readthedocs.io/en/stable/reference/deprecation.html#deprecation-of-object-mode-fall-back-behaviour-when-using-jit for details.\u001b[0m\n",
      "  @numba.jit()\n",
      "c:\\Users\\willi\\anaconda3\\envs\\mlops\\Lib\\site-packages\\umap\\distances.py:1071: NumbaDeprecationWarning: \u001b[1mThe 'nopython' keyword argument was not supplied to the 'numba.jit' decorator. The implicit default value for this argument is currently False, but it will be changed to True in Numba 0.59.0. See https://numba.readthedocs.io/en/stable/reference/deprecation.html#deprecation-of-object-mode-fall-back-behaviour-when-using-jit for details.\u001b[0m\n",
      "  @numba.jit()\n",
      "c:\\Users\\willi\\anaconda3\\envs\\mlops\\Lib\\site-packages\\umap\\distances.py:1086: NumbaDeprecationWarning: \u001b[1mThe 'nopython' keyword argument was not supplied to the 'numba.jit' decorator. The implicit default value for this argument is currently False, but it will be changed to True in Numba 0.59.0. See https://numba.readthedocs.io/en/stable/reference/deprecation.html#deprecation-of-object-mode-fall-back-behaviour-when-using-jit for details.\u001b[0m\n",
      "  @numba.jit()\n",
      "c:\\Users\\willi\\anaconda3\\envs\\mlops\\Lib\\site-packages\\umap\\umap_.py:660: NumbaDeprecationWarning: \u001b[1mThe 'nopython' keyword argument was not supplied to the 'numba.jit' decorator. The implicit default value for this argument is currently False, but it will be changed to True in Numba 0.59.0. See https://numba.readthedocs.io/en/stable/reference/deprecation.html#deprecation-of-object-mode-fall-back-behaviour-when-using-jit for details.\u001b[0m\n",
      "  @numba.jit()\n"
     ]
    }
   ],
   "source": [
    "\n",
    "import numpy as np\n",
    "import pandas as pd\n",
    "from pathlib import Path\n",
    "from model_deployment import mood_prediction\n",
    "\n",
    "\n",
    "from datetime import date\n",
    "from sklearn.model_selection import train_test_split\n",
    "\n",
    "\n",
    "from evidently.pipeline.column_mapping import ColumnMapping\n",
    "from evidently.options import ColorOptions\n",
    "from evidently.report import Report\n",
    "from evidently.metric_preset import DataDriftPreset\n",
    "from evidently.metric_preset import DataQualityPreset\n",
    "from evidently.metric_preset import TargetDriftPreset\n",
    "from evidently.metric_preset import ClassificationPreset\n",
    "\n",
    "from evidently.metrics import (\n",
    "    ClassificationQualityMetric,\n",
    "    ClassificationClassBalance,\n",
    "    ClassificationConfusionMatrix,\n",
    "    ClassificationQualityByClass,\n",
    "    ClassificationClassSeparationPlot,\n",
    "    ClassificationProbDistribution,\n",
    "    ClassificationRocCurve,\n",
    "    ClassificationPRCurve,\n",
    "    ClassificationPRTable,\n",
    "    ClassificationQualityByFeatureTable,\n",
    "    \n",
    "    ConflictTargetMetric,\n",
    "    ConflictPredictionMetric,\n",
    "    DatasetSummaryMetric,\n",
    "    ColumnSummaryMetric,\n",
    "    DatasetMissingValuesMetric,\n",
    "    DatasetCorrelationsMetric\n",
    ")"
   ]
  },
  {
   "attachments": {},
   "cell_type": "markdown",
   "metadata": {
    "id": "x3OWHRQ0f6yv"
   },
   "source": [
    "## Spotify Data"
   ]
  },
  {
   "attachments": {},
   "cell_type": "markdown",
   "metadata": {},
   "source": [
    "### Load data"
   ]
  },
  {
   "cell_type": "code",
   "execution_count": 2,
   "metadata": {
    "id": "uMLMel0Cf6yw"
   },
   "outputs": [],
   "source": [
    "csv = (\n",
    "            \"C:/Users/willi/Python/Spotify_Project/Data/preprocess_data.csv\"\n",
    "        )\n",
    "\n",
    "data = pd.read_csv(csv, sep=\",\")"
   ]
  },
  {
   "cell_type": "code",
   "execution_count": 4,
   "metadata": {
    "id": "pNwLFltuf6yx"
   },
   "outputs": [
    {
     "name": "stdout",
     "output_type": "stream",
     "text": [
      "<class 'pandas.core.frame.DataFrame'>\n",
      "RangeIndex: 1800 entries, 0 to 1799\n",
      "Data columns (total 16 columns):\n",
      " #   Column            Non-Null Count  Dtype  \n",
      "---  ------            --------------  -----  \n",
      " 0   popularity        1800 non-null   int64  \n",
      " 1   genres            1800 non-null   int64  \n",
      " 2   sub-genres        1800 non-null   int64  \n",
      " 3   explicit          1800 non-null   int64  \n",
      " 4   followers         1800 non-null   int64  \n",
      " 5   danceability      1800 non-null   float64\n",
      " 6   energy            1800 non-null   float64\n",
      " 7   key               1800 non-null   int64  \n",
      " 8   loudness          1800 non-null   float64\n",
      " 9   mode              1800 non-null   int64  \n",
      " 10  instrumentalness  1800 non-null   int64  \n",
      " 11  liveness          1800 non-null   int64  \n",
      " 12  tempo             1800 non-null   float64\n",
      " 13  duration_ms       1800 non-null   int64  \n",
      " 14  time_signature    1800 non-null   int64  \n",
      " 15  mood              1800 non-null   int64  \n",
      "dtypes: float64(4), int64(12)\n",
      "memory usage: 225.1 KB\n"
     ]
    }
   ],
   "source": [
    "data.info()"
   ]
  },
  {
   "attachments": {},
   "cell_type": "markdown",
   "metadata": {
    "id": "4VypH7uAf6yz"
   },
   "source": [
    "## Classification Model"
   ]
  },
  {
   "attachments": {},
   "cell_type": "markdown",
   "metadata": {},
   "source": [
    "### Config"
   ]
  },
  {
   "cell_type": "code",
   "execution_count": 5,
   "metadata": {},
   "outputs": [],
   "source": [
    "#today = date.today()\n",
    "\n",
    "target = 'mood'\n",
    "prediction = 'prediction'\n",
    "numerical_features = ['popularity', 'followers', 'danceability', 'energy', 'loudness', 'tempo','duration_ms']\n",
    "categorical_features = ['genres', 'sub-genres', 'explicit','liveness','instrumentalness','key','mode','time_signature']\n",
    "\n",
    "reports_dir = Path('C:/Users/willi/Python/Spotify_Project/reports') #/ f'{today}'\n",
    "reports_dir.mkdir(exist_ok=True)"
   ]
  },
  {
   "attachments": {},
   "cell_type": "markdown",
   "metadata": {
    "id": "9YMdccRpf6y3"
   },
   "source": [
    "### Model training"
   ]
  },
  {
   "cell_type": "code",
   "execution_count": 54,
   "metadata": {},
   "outputs": [],
   "source": [
    "X = data.drop(\"mood\", axis=1)\n",
    "y = data[\"mood\"]"
   ]
  },
  {
   "cell_type": "code",
   "execution_count": 55,
   "metadata": {},
   "outputs": [
    {
     "name": "stderr",
     "output_type": "stream",
     "text": [
      "2023/05/21 01:19:21 WARNING mlflow.pyfunc: Detected one or more mismatches between the model's dependencies and the current Python environment:\n",
      " - packaging (current: 23.0, required: packaging==23.1)\n",
      "To fix the mismatches, call `mlflow.pyfunc.get_model_dependencies(model_uri)` to fetch the model's environment and install dependencies using the resulting environment file.\n"
     ]
    }
   ],
   "source": [
    "X['prediction'] = np.array(mood_prediction(X))"
   ]
  },
  {
   "cell_type": "code",
   "execution_count": 56,
   "metadata": {},
   "outputs": [],
   "source": [
    "X_train, X_test, y_train, y_test = train_test_split(X, y, test_size=0.2, random_state=42)"
   ]
  },
  {
   "cell_type": "code",
   "execution_count": 57,
   "metadata": {},
   "outputs": [],
   "source": [
    "df_train = pd.concat([X_train,y_train],axis=1)\n",
    "df_train.reset_index(inplace=True, drop=True)\n",
    "\n",
    "df_test = pd.concat([X_test,y_test],axis=1)\n",
    "df_test.reset_index(inplace=True, drop=True)"
   ]
  },
  {
   "cell_type": "code",
   "execution_count": 59,
   "metadata": {},
   "outputs": [
    {
     "name": "stdout",
     "output_type": "stream",
     "text": [
      "<class 'pandas.core.frame.DataFrame'>\n",
      "RangeIndex: 1440 entries, 0 to 1439\n",
      "Data columns (total 17 columns):\n",
      " #   Column            Non-Null Count  Dtype  \n",
      "---  ------            --------------  -----  \n",
      " 0   popularity        1440 non-null   int64  \n",
      " 1   genres            1440 non-null   int64  \n",
      " 2   sub-genres        1440 non-null   int64  \n",
      " 3   explicit          1440 non-null   int64  \n",
      " 4   followers         1440 non-null   int64  \n",
      " 5   danceability      1440 non-null   float64\n",
      " 6   energy            1440 non-null   float64\n",
      " 7   key               1440 non-null   int64  \n",
      " 8   loudness          1440 non-null   float64\n",
      " 9   mode              1440 non-null   int64  \n",
      " 10  instrumentalness  1440 non-null   int64  \n",
      " 11  liveness          1440 non-null   int64  \n",
      " 12  tempo             1440 non-null   float64\n",
      " 13  duration_ms       1440 non-null   int64  \n",
      " 14  time_signature    1440 non-null   int64  \n",
      " 15  prediction        1440 non-null   object \n",
      " 16  mood              1440 non-null   object \n",
      "dtypes: float64(4), int64(11), object(2)\n",
      "memory usage: 191.4+ KB\n"
     ]
    }
   ],
   "source": [
    "df_train['mood'] = df_train['mood'].astype('str')\n",
    "df_train['prediction'] = df_train['prediction'].astype('str')\n",
    "df_train.info()"
   ]
  },
  {
   "cell_type": "code",
   "execution_count": 60,
   "metadata": {},
   "outputs": [
    {
     "name": "stdout",
     "output_type": "stream",
     "text": [
      "<class 'pandas.core.frame.DataFrame'>\n",
      "RangeIndex: 360 entries, 0 to 359\n",
      "Data columns (total 17 columns):\n",
      " #   Column            Non-Null Count  Dtype  \n",
      "---  ------            --------------  -----  \n",
      " 0   popularity        360 non-null    int64  \n",
      " 1   genres            360 non-null    int64  \n",
      " 2   sub-genres        360 non-null    int64  \n",
      " 3   explicit          360 non-null    int64  \n",
      " 4   followers         360 non-null    int64  \n",
      " 5   danceability      360 non-null    float64\n",
      " 6   energy            360 non-null    float64\n",
      " 7   key               360 non-null    int64  \n",
      " 8   loudness          360 non-null    float64\n",
      " 9   mode              360 non-null    int64  \n",
      " 10  instrumentalness  360 non-null    int64  \n",
      " 11  liveness          360 non-null    int64  \n",
      " 12  tempo             360 non-null    float64\n",
      " 13  duration_ms       360 non-null    int64  \n",
      " 14  time_signature    360 non-null    int64  \n",
      " 15  prediction        360 non-null    object \n",
      " 16  mood              360 non-null    object \n",
      "dtypes: float64(4), int64(11), object(2)\n",
      "memory usage: 47.9+ KB\n"
     ]
    }
   ],
   "source": [
    "df_test['mood'] = df_test['mood'].astype('str')\n",
    "df_test['prediction'] = df_test['prediction'].astype('str')\n",
    "df_test.info()"
   ]
  },
  {
   "attachments": {},
   "cell_type": "markdown",
   "metadata": {
    "id": "4i2oy0k1f6y7"
   },
   "source": [
    "# Model Monitoring"
   ]
  },
  {
   "cell_type": "code",
   "execution_count": 61,
   "metadata": {},
   "outputs": [],
   "source": [
    "reference_data = df_train"
   ]
  },
  {
   "cell_type": "code",
   "execution_count": 62,
   "metadata": {},
   "outputs": [],
   "source": [
    "current_data = df_test"
   ]
  },
  {
   "cell_type": "code",
   "execution_count": 66,
   "metadata": {
    "id": "Rg0JipUif6y7"
   },
   "outputs": [],
   "source": [
    "column_mapping = ColumnMapping()\n",
    "\n",
    "column_mapping.target = target\n",
    "column_mapping.prediction = prediction\n",
    "column_mapping.numerical_features = numerical_features\n",
    "column_mapping.categorical_features = categorical_features\n",
    "column_mapping.pos_label = '1'"
   ]
  },
  {
   "attachments": {},
   "cell_type": "markdown",
   "metadata": {},
   "source": [
    "## Model perfomance"
   ]
  },
  {
   "cell_type": "code",
   "execution_count": 73,
   "metadata": {
    "id": "6G7KzxSxf6y9"
   },
   "outputs": [],
   "source": [
    "#label binary classification\n",
    "classification_report = Report(metrics=[\n",
    "    ClassificationQualityMetric(),\n",
    "    ClassificationClassBalance(),\n",
    "    ConflictTargetMetric(),\n",
    "    ConflictPredictionMetric(),\n",
    "    ClassificationConfusionMatrix(),\n",
    "    ClassificationQualityByClass(),\n",
    "    ClassificationQualityByFeatureTable(columns = numerical_features),\n",
    "])\n",
    "\n",
    "classification_report.run(reference_data = reference_data, current_data= current_data, column_mapping=column_mapping)"
   ]
  },
  {
   "cell_type": "code",
   "execution_count": 74,
   "metadata": {
    "id": "2kN2qqaLf6y-"
   },
   "outputs": [],
   "source": [
    "classification_report_path = reports_dir / 'classification_report.html'\n",
    "classification_report.save_html(classification_report_path)"
   ]
  },
  {
   "attachments": {},
   "cell_type": "markdown",
   "metadata": {
    "id": "62qRRKmhf6y9"
   },
   "source": [
    "##  Target drift"
   ]
  },
  {
   "cell_type": "code",
   "execution_count": null,
   "metadata": {
    "id": "afFgUlwvf6y-"
   },
   "outputs": [],
   "source": [
    "target_drift_report = Report(metrics=[TargetDriftPreset()])\n",
    "target_drift_report.run(\n",
    "    reference_data=reference_data,\n",
    "    current_data=current_data,\n",
    "    column_mapping=column_mapping\n",
    ")"
   ]
  },
  {
   "cell_type": "code",
   "execution_count": null,
   "metadata": {
    "id": "5AyuTggif6y_"
   },
   "outputs": [],
   "source": [
    "target_drift_report_path = reports_dir / 'target_drift.html'\n",
    "target_drift_report.save_html(target_drift_report_path)"
   ]
  },
  {
   "attachments": {},
   "cell_type": "markdown",
   "metadata": {
    "id": "imlXej4of6zE"
   },
   "source": [
    "## Data drift"
   ]
  },
  {
   "cell_type": "code",
   "execution_count": null,
   "metadata": {
    "id": "x-CrzsxSf6zE"
   },
   "outputs": [],
   "source": [
    "column_mapping = ColumnMapping()\n",
    "column_mapping.numerical_features = numerical_features"
   ]
  },
  {
   "cell_type": "code",
   "execution_count": null,
   "metadata": {
    "id": "cKdcopYPf6zE"
   },
   "outputs": [],
   "source": [
    "data_drift_report = Report(metrics=[DataDriftPreset()])\n",
    "data_drift_report.run(\n",
    "    reference_data=reference_data,\n",
    "    current_data=current_data,\n",
    "    column_mapping=column_mapping\n",
    ")"
   ]
  },
  {
   "cell_type": "code",
   "execution_count": null,
   "metadata": {
    "id": "Xy7Y6S8Af6zF"
   },
   "outputs": [],
   "source": [
    "data_drift_report_path = reports_dir / 'data_drift.html'\n",
    "data_drift_report.save_html(data_drift_report_path)"
   ]
  },
  {
   "attachments": {},
   "cell_type": "markdown",
   "metadata": {},
   "source": [
    "## Data quality"
   ]
  },
  {
   "cell_type": "code",
   "execution_count": null,
   "metadata": {},
   "outputs": [],
   "source": [
    "column_mapping = ColumnMapping()\n",
    "column_mapping.numerical_features = numerical_features"
   ]
  },
  {
   "cell_type": "code",
   "execution_count": null,
   "metadata": {},
   "outputs": [],
   "source": [
    "data_quality_report = Report(metrics=[DataQualityPreset()])\n",
    "data_quality_report.run(\n",
    "    reference_data=reference_data,\n",
    "    current_data=current_data,\n",
    "    column_mapping=column_mapping\n",
    ")"
   ]
  },
  {
   "cell_type": "code",
   "execution_count": null,
   "metadata": {},
   "outputs": [],
   "source": [
    "data_quality_report_path = reports_dir / 'data_quality.html'\n",
    "data_quality_report.save_html(data_quality_report_path)"
   ]
  }
 ],
 "metadata": {
  "colab": {
   "collapsed_sections": [
    "xnrzxRRnf6y_",
    "BAXuFSrTf6zC"
   ],
   "name": "bicycle_demand_monitoring.ipynb",
   "provenance": []
  },
  "kernelspec": {
   "display_name": "mlops",
   "language": "python",
   "name": "mlops"
  },
  "language_info": {
   "codemirror_mode": {
    "name": "ipython",
    "version": 3
   },
   "file_extension": ".py",
   "mimetype": "text/x-python",
   "name": "python",
   "nbconvert_exporter": "python",
   "pygments_lexer": "ipython3",
   "version": "3.8.5"
  },
  "toc": {
   "base_numbering": 1,
   "nav_menu": {},
   "number_sections": true,
   "sideBar": true,
   "skip_h1_title": false,
   "title_cell": "Table of Contents",
   "title_sidebar": "Contents",
   "toc_cell": false,
   "toc_position": {
    "height": "calc(100% - 180px)",
    "left": "10px",
    "top": "150px",
    "width": "305.994px"
   },
   "toc_section_display": true,
   "toc_window_display": true
  }
 },
 "nbformat": 4,
 "nbformat_minor": 4
}
