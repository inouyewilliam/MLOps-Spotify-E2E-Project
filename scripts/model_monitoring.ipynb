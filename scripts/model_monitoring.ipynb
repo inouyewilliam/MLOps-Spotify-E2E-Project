{
 "cells": [
  {
   "attachments": {},
   "cell_type": "markdown",
   "metadata": {
    "id": "pqMl9Ouxf6yn"
   },
   "source": [
    "# Classification Report"
   ]
  },
  {
   "attachments": {},
   "cell_type": "markdown",
   "metadata": {},
   "source": [
    "## Imports"
   ]
  },
  {
   "cell_type": "code",
   "execution_count": 9,
   "metadata": {
    "id": "8FP6JHGUf6ys"
   },
   "outputs": [],
   "source": [
    "\n",
    "import numpy as np\n",
    "import pandas as pd\n",
    "from pathlib import Path\n",
    "from model_deployment import mood_prediction\n",
    "\n",
    "\n",
    "from datetime import date\n",
    "from sklearn.model_selection import train_test_split\n",
    "\n",
    "\n",
    "from evidently.pipeline.column_mapping import ColumnMapping\n",
    "from evidently.options import ColorOptions\n",
    "from evidently.report import Report\n",
    "from evidently.metric_preset import DataDriftPreset\n",
    "from evidently.metric_preset import DataQualityPreset\n",
    "from evidently.metric_preset import TargetDriftPreset\n",
    "from evidently.metric_preset import ClassificationPreset\n",
    "\n",
    "from evidently.metrics import (\n",
    "    ClassificationQualityMetric,\n",
    "    ClassificationClassBalance,\n",
    "    ClassificationConfusionMatrix,\n",
    "    ClassificationQualityByClass,\n",
    "    ClassificationClassSeparationPlot,\n",
    "    ClassificationProbDistribution,\n",
    "    ClassificationRocCurve,\n",
    "    ClassificationPRCurve,\n",
    "    ClassificationPRTable,\n",
    "    ClassificationQualityByFeatureTable,\n",
    "    \n",
    "    ConflictTargetMetric,\n",
    "    ConflictPredictionMetric,\n",
    "    DatasetSummaryMetric,\n",
    "    ColumnSummaryMetric,\n",
    "    DatasetMissingValuesMetric,\n",
    "    DatasetCorrelationsMetric\n",
    ")"
   ]
  },
  {
   "attachments": {},
   "cell_type": "markdown",
   "metadata": {
    "id": "x3OWHRQ0f6yv"
   },
   "source": [
    "## Spotify Data"
   ]
  },
  {
   "attachments": {},
   "cell_type": "markdown",
   "metadata": {},
   "source": [
    "### Load data"
   ]
  },
  {
   "cell_type": "code",
   "execution_count": null,
   "metadata": {},
   "outputs": [],
   "source": [
    "#Data Types dictionary\n",
    "dtype = {\n",
    "       'popularity':'int8',\n",
    "       'genres': str,\n",
    "       'sub-genres': str,\n",
    "       'explicit':'int8', \n",
    "       'followers': int, \n",
    "       'danceability':float,\n",
    "       'energy': float, \n",
    "       'key':'int8',\n",
    "       'loudness': float,\n",
    "       'mode':'int8', \n",
    "       'instrumentalness':'int8',\n",
    "       'liveness':'int8',\n",
    "       'tempo':float, \n",
    "       'duration_ms':int,\n",
    "       'time_signature':'int8',\n",
    "       'mood': 'int8' \n",
    "       }"
   ]
  },
  {
   "cell_type": "code",
   "execution_count": 30,
   "metadata": {
    "id": "uMLMel0Cf6yw"
   },
   "outputs": [],
   "source": [
    "csv = (\n",
    "        \"C:/Users/willi/Python/Spotify_Project/Data/preprocess_data.csv\"\n",
    "        )\n",
    "\n",
    "data = pd.read_csv(csv, sep=\",\", dtype = dtype)"
   ]
  },
  {
   "cell_type": "code",
   "execution_count": 31,
   "metadata": {},
   "outputs": [],
   "source": [
    "csv = (\n",
    "        \"C:/Users/willi/Python/Spotify_Project/Data/preprocess_new_data.csv\"\n",
    "        )\n",
    "\n",
    "new_data = pd.read_csv(csv, sep=\",\",dtype=dtype)"
   ]
  },
  {
   "cell_type": "code",
   "execution_count": 32,
   "metadata": {},
   "outputs": [
    {
     "name": "stdout",
     "output_type": "stream",
     "text": [
      "<class 'pandas.core.frame.DataFrame'>\n",
      "RangeIndex: 100 entries, 0 to 99\n",
      "Data columns (total 16 columns):\n",
      " #   Column            Non-Null Count  Dtype  \n",
      "---  ------            --------------  -----  \n",
      " 0   popularity        100 non-null    int8   \n",
      " 1   genres            100 non-null    object \n",
      " 2   sub-genres        100 non-null    object \n",
      " 3   explicit          100 non-null    int8   \n",
      " 4   followers         100 non-null    int32  \n",
      " 5   danceability      100 non-null    float64\n",
      " 6   energy            100 non-null    float64\n",
      " 7   key               100 non-null    int8   \n",
      " 8   loudness          100 non-null    float64\n",
      " 9   mode              100 non-null    int8   \n",
      " 10  instrumentalness  100 non-null    int8   \n",
      " 11  liveness          100 non-null    int8   \n",
      " 12  tempo             100 non-null    float64\n",
      " 13  duration_ms       100 non-null    int32  \n",
      " 14  time_signature    100 non-null    int8   \n",
      " 15  mood              100 non-null    int8   \n",
      "dtypes: float64(4), int32(2), int8(8), object(2)\n",
      "memory usage: 6.4+ KB\n"
     ]
    }
   ],
   "source": [
    "new_data.info()"
   ]
  },
  {
   "cell_type": "code",
   "execution_count": 8,
   "metadata": {
    "id": "pNwLFltuf6yx"
   },
   "outputs": [
    {
     "name": "stdout",
     "output_type": "stream",
     "text": [
      "<class 'pandas.core.frame.DataFrame'>\n",
      "RangeIndex: 100 entries, 0 to 99\n",
      "Data columns (total 16 columns):\n",
      " #   Column            Non-Null Count  Dtype  \n",
      "---  ------            --------------  -----  \n",
      " 0   popularity        100 non-null    int64  \n",
      " 1   genres            100 non-null    int64  \n",
      " 2   sub-genres        100 non-null    int64  \n",
      " 3   explicit          100 non-null    int64  \n",
      " 4   followers         100 non-null    int64  \n",
      " 5   danceability      100 non-null    float64\n",
      " 6   energy            100 non-null    float64\n",
      " 7   key               100 non-null    int64  \n",
      " 8   loudness          100 non-null    float64\n",
      " 9   mode              100 non-null    int64  \n",
      " 10  instrumentalness  100 non-null    int64  \n",
      " 11  liveness          100 non-null    int64  \n",
      " 12  tempo             100 non-null    float64\n",
      " 13  duration_ms       100 non-null    int64  \n",
      " 14  time_signature    100 non-null    int64  \n",
      " 15  mood              100 non-null    int64  \n",
      "dtypes: float64(4), int64(12)\n",
      "memory usage: 12.6 KB\n"
     ]
    }
   ],
   "source": [
    "new_data.info()"
   ]
  },
  {
   "attachments": {},
   "cell_type": "markdown",
   "metadata": {
    "id": "4VypH7uAf6yz"
   },
   "source": [
    "## Classification Model"
   ]
  },
  {
   "attachments": {},
   "cell_type": "markdown",
   "metadata": {},
   "source": [
    "### Config"
   ]
  },
  {
   "cell_type": "code",
   "execution_count": 12,
   "metadata": {},
   "outputs": [],
   "source": [
    "#today = date.today()\n",
    "\n",
    "target = 'mood'\n",
    "prediction = 'prediction'\n",
    "numerical_features = ['popularity', 'followers', 'danceability', 'energy', 'loudness', 'tempo','duration_ms']\n",
    "categorical_features = ['genres', 'sub-genres', 'explicit','liveness','instrumentalness','key','mode','time_signature']\n",
    "\n",
    "reports_dir = Path('C:/Users/willi/Python/Spotify_Project/reports') #/ f'{today}'\n",
    "reports_dir.mkdir(exist_ok=True)"
   ]
  },
  {
   "attachments": {},
   "cell_type": "markdown",
   "metadata": {
    "id": "9YMdccRpf6y3"
   },
   "source": [
    "### Model training"
   ]
  },
  {
   "cell_type": "code",
   "execution_count": 13,
   "metadata": {},
   "outputs": [],
   "source": [
    "X_data = data.drop(\"mood\", axis=1)\n",
    "X_new_data = new_data.drop(\"mood\", axis=1)"
   ]
  },
  {
   "cell_type": "code",
   "execution_count": 14,
   "metadata": {},
   "outputs": [
    {
     "name": "stderr",
     "output_type": "stream",
     "text": [
      "2023/05/22 22:18:53 WARNING mlflow.pyfunc: Detected one or more mismatches between the model's dependencies and the current Python environment:\n",
      " - packaging (current: 23.0, required: packaging==23.1)\n",
      "To fix the mismatches, call `mlflow.pyfunc.get_model_dependencies(model_uri)` to fetch the model's environment and install dependencies using the resulting environment file.\n",
      "2023/05/22 22:18:55 WARNING mlflow.pyfunc: Detected one or more mismatches between the model's dependencies and the current Python environment:\n",
      " - packaging (current: 23.0, required: packaging==23.1)\n",
      "To fix the mismatches, call `mlflow.pyfunc.get_model_dependencies(model_uri)` to fetch the model's environment and install dependencies using the resulting environment file.\n"
     ]
    }
   ],
   "source": [
    "data['prediction'] = np.array(mood_prediction(X_data))\n",
    "new_data['prediction'] = np.array(mood_prediction(X_new_data))"
   ]
  },
  {
   "cell_type": "code",
   "execution_count": 15,
   "metadata": {},
   "outputs": [
    {
     "name": "stdout",
     "output_type": "stream",
     "text": [
      "<class 'pandas.core.frame.DataFrame'>\n",
      "RangeIndex: 1800 entries, 0 to 1799\n",
      "Data columns (total 17 columns):\n",
      " #   Column            Non-Null Count  Dtype  \n",
      "---  ------            --------------  -----  \n",
      " 0   popularity        1800 non-null   int64  \n",
      " 1   genres            1800 non-null   int64  \n",
      " 2   sub-genres        1800 non-null   int64  \n",
      " 3   explicit          1800 non-null   int64  \n",
      " 4   followers         1800 non-null   int64  \n",
      " 5   danceability      1800 non-null   float64\n",
      " 6   energy            1800 non-null   float64\n",
      " 7   key               1800 non-null   int64  \n",
      " 8   loudness          1800 non-null   float64\n",
      " 9   mode              1800 non-null   int64  \n",
      " 10  instrumentalness  1800 non-null   int64  \n",
      " 11  liveness          1800 non-null   int64  \n",
      " 12  tempo             1800 non-null   float64\n",
      " 13  duration_ms       1800 non-null   int64  \n",
      " 14  time_signature    1800 non-null   int64  \n",
      " 15  mood              1800 non-null   object \n",
      " 16  prediction        1800 non-null   object \n",
      "dtypes: float64(4), int64(11), object(2)\n",
      "memory usage: 239.2+ KB\n"
     ]
    }
   ],
   "source": [
    "data['mood'] = data['mood'].astype('str')\n",
    "data['prediction'] = data['prediction'].astype('str')\n",
    "data.info()"
   ]
  },
  {
   "cell_type": "code",
   "execution_count": 16,
   "metadata": {},
   "outputs": [
    {
     "name": "stdout",
     "output_type": "stream",
     "text": [
      "<class 'pandas.core.frame.DataFrame'>\n",
      "RangeIndex: 100 entries, 0 to 99\n",
      "Data columns (total 17 columns):\n",
      " #   Column            Non-Null Count  Dtype  \n",
      "---  ------            --------------  -----  \n",
      " 0   popularity        100 non-null    int64  \n",
      " 1   genres            100 non-null    int64  \n",
      " 2   sub-genres        100 non-null    int64  \n",
      " 3   explicit          100 non-null    int64  \n",
      " 4   followers         100 non-null    int64  \n",
      " 5   danceability      100 non-null    float64\n",
      " 6   energy            100 non-null    float64\n",
      " 7   key               100 non-null    int64  \n",
      " 8   loudness          100 non-null    float64\n",
      " 9   mode              100 non-null    int64  \n",
      " 10  instrumentalness  100 non-null    int64  \n",
      " 11  liveness          100 non-null    int64  \n",
      " 12  tempo             100 non-null    float64\n",
      " 13  duration_ms       100 non-null    int64  \n",
      " 14  time_signature    100 non-null    int64  \n",
      " 15  mood              100 non-null    object \n",
      " 16  prediction        100 non-null    object \n",
      "dtypes: float64(4), int64(11), object(2)\n",
      "memory usage: 13.4+ KB\n"
     ]
    }
   ],
   "source": [
    "new_data['mood'] = new_data['mood'].astype('str')\n",
    "new_data['prediction'] = new_data['prediction'].astype('str')\n",
    "new_data.info()"
   ]
  },
  {
   "attachments": {},
   "cell_type": "markdown",
   "metadata": {
    "id": "4i2oy0k1f6y7"
   },
   "source": [
    "# Model Monitoring"
   ]
  },
  {
   "cell_type": "code",
   "execution_count": 17,
   "metadata": {},
   "outputs": [],
   "source": [
    "reference_data = data"
   ]
  },
  {
   "cell_type": "code",
   "execution_count": 18,
   "metadata": {},
   "outputs": [],
   "source": [
    "current_data = new_data"
   ]
  },
  {
   "cell_type": "code",
   "execution_count": 19,
   "metadata": {
    "id": "Rg0JipUif6y7"
   },
   "outputs": [],
   "source": [
    "column_mapping = ColumnMapping()\n",
    "\n",
    "column_mapping.target = target\n",
    "column_mapping.prediction = prediction\n",
    "column_mapping.numerical_features = numerical_features\n",
    "column_mapping.categorical_features = categorical_features\n",
    "column_mapping.pos_label = '1'"
   ]
  },
  {
   "attachments": {},
   "cell_type": "markdown",
   "metadata": {},
   "source": [
    "## Model perfomance"
   ]
  },
  {
   "cell_type": "code",
   "execution_count": 20,
   "metadata": {
    "id": "6G7KzxSxf6y9"
   },
   "outputs": [],
   "source": [
    "#label binary classification\n",
    "classification_report = Report(metrics=[\n",
    "    ClassificationQualityMetric(),\n",
    "    ClassificationClassBalance(),\n",
    "    ConflictTargetMetric(),\n",
    "    ConflictPredictionMetric(),\n",
    "    ClassificationConfusionMatrix(),\n",
    "    ClassificationQualityByClass(),\n",
    "    ClassificationQualityByFeatureTable(columns = numerical_features),\n",
    "])\n",
    "\n",
    "classification_report.run(reference_data = reference_data, current_data= current_data, column_mapping=column_mapping)"
   ]
  },
  {
   "cell_type": "code",
   "execution_count": 21,
   "metadata": {
    "id": "2kN2qqaLf6y-"
   },
   "outputs": [],
   "source": [
    "classification_report_path = reports_dir / 'classification_report.html'\n",
    "classification_report.save_html(classification_report_path)"
   ]
  },
  {
   "attachments": {},
   "cell_type": "markdown",
   "metadata": {
    "id": "62qRRKmhf6y9"
   },
   "source": [
    "##  Target drift"
   ]
  },
  {
   "cell_type": "code",
   "execution_count": 22,
   "metadata": {
    "id": "afFgUlwvf6y-"
   },
   "outputs": [],
   "source": [
    "target_drift_report = Report(metrics=[TargetDriftPreset()])\n",
    "target_drift_report.run(\n",
    "    reference_data=reference_data,\n",
    "    current_data=current_data,\n",
    "    column_mapping=column_mapping\n",
    ")"
   ]
  },
  {
   "cell_type": "code",
   "execution_count": 23,
   "metadata": {
    "id": "5AyuTggif6y_"
   },
   "outputs": [],
   "source": [
    "target_drift_report_path = reports_dir / 'target_drift.html'\n",
    "target_drift_report.save_html(target_drift_report_path)"
   ]
  },
  {
   "attachments": {},
   "cell_type": "markdown",
   "metadata": {
    "id": "imlXej4of6zE"
   },
   "source": [
    "## Data drift"
   ]
  },
  {
   "cell_type": "code",
   "execution_count": null,
   "metadata": {
    "id": "x-CrzsxSf6zE"
   },
   "outputs": [],
   "source": [
    "column_mapping = ColumnMapping()\n",
    "column_mapping.numerical_features = numerical_features"
   ]
  },
  {
   "cell_type": "code",
   "execution_count": null,
   "metadata": {
    "id": "cKdcopYPf6zE"
   },
   "outputs": [],
   "source": [
    "data_drift_report = Report(metrics=[DataDriftPreset()])\n",
    "data_drift_report.run(\n",
    "    reference_data=reference_data,\n",
    "    current_data=current_data,\n",
    "    column_mapping=column_mapping\n",
    ")"
   ]
  },
  {
   "cell_type": "code",
   "execution_count": null,
   "metadata": {
    "id": "Xy7Y6S8Af6zF"
   },
   "outputs": [],
   "source": [
    "data_drift_report_path = reports_dir / 'data_drift.html'\n",
    "data_drift_report.save_html(data_drift_report_path)"
   ]
  },
  {
   "attachments": {},
   "cell_type": "markdown",
   "metadata": {},
   "source": [
    "## Data quality"
   ]
  },
  {
   "cell_type": "code",
   "execution_count": null,
   "metadata": {},
   "outputs": [],
   "source": [
    "column_mapping = ColumnMapping()\n",
    "column_mapping.numerical_features = numerical_features"
   ]
  },
  {
   "cell_type": "code",
   "execution_count": null,
   "metadata": {},
   "outputs": [],
   "source": [
    "data_quality_report = Report(metrics=[DataQualityPreset()])\n",
    "data_quality_report.run(\n",
    "    reference_data=reference_data,\n",
    "    current_data=current_data,\n",
    "    column_mapping=column_mapping\n",
    ")"
   ]
  },
  {
   "cell_type": "code",
   "execution_count": null,
   "metadata": {},
   "outputs": [],
   "source": [
    "data_quality_report_path = reports_dir / 'data_quality.html'\n",
    "data_quality_report.save_html(data_quality_report_path)"
   ]
  }
 ],
 "metadata": {
  "colab": {
   "collapsed_sections": [
    "xnrzxRRnf6y_",
    "BAXuFSrTf6zC"
   ],
   "name": "bicycle_demand_monitoring.ipynb",
   "provenance": []
  },
  "kernelspec": {
   "display_name": "mlops",
   "language": "python",
   "name": "python3"
  },
  "language_info": {
   "codemirror_mode": {
    "name": "ipython",
    "version": 3
   },
   "file_extension": ".py",
   "mimetype": "text/x-python",
   "name": "python",
   "nbconvert_exporter": "python",
   "pygments_lexer": "ipython3",
   "version": "3.11.3"
  },
  "toc": {
   "base_numbering": 1,
   "nav_menu": {},
   "number_sections": true,
   "sideBar": true,
   "skip_h1_title": false,
   "title_cell": "Table of Contents",
   "title_sidebar": "Contents",
   "toc_cell": false,
   "toc_position": {
    "height": "calc(100% - 180px)",
    "left": "10px",
    "top": "150px",
    "width": "305.994px"
   },
   "toc_section_display": true,
   "toc_window_display": true
  }
 },
 "nbformat": 4,
 "nbformat_minor": 4
}
