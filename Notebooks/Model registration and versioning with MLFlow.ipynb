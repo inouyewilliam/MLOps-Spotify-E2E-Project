{
 "cells": [
  {
   "cell_type": "markdown",
   "id": "6df2981f",
   "metadata": {},
   "source": [
    "# Model registration and versioning with MLFlow"
   ]
  },
  {
   "cell_type": "code",
   "execution_count": 1,
   "id": "8937b46d",
   "metadata": {},
   "outputs": [],
   "source": [
    "import os\n",
    "import warnings\n",
    "import sys\n",
    "\n",
    "import pandas as pd\n",
    "import numpy as np\n",
    "from sklearn.metrics import f1_score, confusion_matrix, accuracy_score, roc_auc_score, precision_score, recall_score,roc_auc_score, average_precision_score\n",
    "from sklearn.model_selection import train_test_split\n",
    "import lightgbm as lgb\n",
    "from urllib.parse import urlparse\n",
    "import mlflow\n",
    "import mlflow.sklearn\n",
    "import logging\n",
    "\n",
    "logging.basicConfig(level=logging.WARN)\n",
    "logger = logging.getLogger(__name__)"
   ]
  },
  {
   "cell_type": "code",
   "execution_count": 2,
   "id": "b6fb5b85-206c-4334-b441-a7250cb46730",
   "metadata": {},
   "outputs": [],
   "source": [
    "os.environ[\"MLFLOW_TRACKING_URI\"] = \"https://dagshub.com/inouyewilliam/Master-Thesis.mlflow\"\n",
    "os.environ[\"MLFLOW_TRACKING_USERNAME\"] = \"inouyewilliam\"\n",
    "os.environ[\"MLFLOW_TRACKING_PASSWORD\"] =\"b185d44c9fe85ded477875ff2ba1b4d229006006\"\n",
    "\n",
    "\n",
    "mlflow.set_tracking_uri(\"https://dagshub.com/inouyewilliam/Master-Thesis.mlflow\")"
   ]
  },
  {
   "cell_type": "code",
   "execution_count": 3,
   "id": "3f6568e6-6d9e-4380-82d1-be2a8b406c76",
   "metadata": {},
   "outputs": [],
   "source": [
    "def eval_proba(actual, proba):\n",
    "    roc_auc = roc_auc_score(actual, proba)\n",
    "    average_precision= average_precision_score(actual, proba)\n",
    "    \n",
    "    return roc_auc,average_precision"
   ]
  },
  {
   "cell_type": "code",
   "execution_count": 4,
   "id": "276baf0b",
   "metadata": {},
   "outputs": [],
   "source": [
    "def eval_pred(actual, pred):\n",
    "   \n",
    "    accuracy= accuracy_score(actual, pred)\n",
    "    precision= precision_score(actual, pred)\n",
    "    recall= recall_score(actual, pred)\n",
    "    f1= f1_score(actual, pred)\n",
    "        \n",
    "    return accuracy, precision, recall, f1"
   ]
  },
  {
   "cell_type": "code",
   "execution_count": 5,
   "id": "373929a6",
   "metadata": {},
   "outputs": [
    {
     "name": "stderr",
     "output_type": "stream",
     "text": [
      "ERROR:__main__:Unable to download training & test CSV, check your internet connection. Error: [Errno 2] No such file or directory: './Data/preprocess_data.csv'\n",
      "Traceback (most recent call last):\n",
      "  File \"C:\\Users\\willi\\AppData\\Local\\Temp\\ipykernel_12060\\3942839192.py\", line 11, in <module>\n",
      "    data = pd.read_csv(csv_url, sep=\",\")\n",
      "  File \"C:\\Users\\willi\\anaconda3\\lib\\site-packages\\pandas\\util\\_decorators.py\", line 211, in wrapper\n",
      "    return func(*args, **kwargs)\n",
      "  File \"C:\\Users\\willi\\anaconda3\\lib\\site-packages\\pandas\\util\\_decorators.py\", line 331, in wrapper\n",
      "    return func(*args, **kwargs)\n",
      "  File \"C:\\Users\\willi\\anaconda3\\lib\\site-packages\\pandas\\io\\parsers\\readers.py\", line 950, in read_csv\n",
      "    return _read(filepath_or_buffer, kwds)\n",
      "  File \"C:\\Users\\willi\\anaconda3\\lib\\site-packages\\pandas\\io\\parsers\\readers.py\", line 605, in _read\n",
      "    parser = TextFileReader(filepath_or_buffer, **kwds)\n",
      "  File \"C:\\Users\\willi\\anaconda3\\lib\\site-packages\\pandas\\io\\parsers\\readers.py\", line 1442, in __init__\n",
      "    self._engine = self._make_engine(f, self.engine)\n",
      "  File \"C:\\Users\\willi\\anaconda3\\lib\\site-packages\\pandas\\io\\parsers\\readers.py\", line 1735, in _make_engine\n",
      "    self.handles = get_handle(\n",
      "  File \"C:\\Users\\willi\\anaconda3\\lib\\site-packages\\pandas\\io\\common.py\", line 856, in get_handle\n",
      "    handle = open(\n",
      "FileNotFoundError: [Errno 2] No such file or directory: './Data/preprocess_data.csv'\n"
     ]
    },
    {
     "ename": "NameError",
     "evalue": "name 'data' is not defined",
     "output_type": "error",
     "traceback": [
      "\u001b[1;31m---------------------------------------------------------------------------\u001b[0m",
      "\u001b[1;31mNameError\u001b[0m                                 Traceback (most recent call last)",
      "Cell \u001b[1;32mIn [5], line 19\u001b[0m\n\u001b[0;32m     14\u001b[0m     logger\u001b[38;5;241m.\u001b[39mexception(\n\u001b[0;32m     15\u001b[0m         \u001b[38;5;124m\"\u001b[39m\u001b[38;5;124mUnable to download training & test CSV, check your internet connection. Error: \u001b[39m\u001b[38;5;132;01m%s\u001b[39;00m\u001b[38;5;124m\"\u001b[39m, e\n\u001b[0;32m     16\u001b[0m     )\n\u001b[0;32m     18\u001b[0m \u001b[38;5;66;03m# Split the data into training and test sets. (0.8, 0.2) split.\u001b[39;00m\n\u001b[1;32m---> 19\u001b[0m train, test \u001b[38;5;241m=\u001b[39m train_test_split(\u001b[43mdata\u001b[49m, test_size\u001b[38;5;241m=\u001b[39m\u001b[38;5;241m0.2\u001b[39m, random_state\u001b[38;5;241m=\u001b[39m\u001b[38;5;241m42\u001b[39m)\n\u001b[0;32m     21\u001b[0m \u001b[38;5;66;03m# The predicted column is \"mood\" which is a binary [0, 1]\u001b[39;00m\n\u001b[0;32m     22\u001b[0m train_x \u001b[38;5;241m=\u001b[39m train\u001b[38;5;241m.\u001b[39mdrop(\u001b[38;5;124m\"\u001b[39m\u001b[38;5;124mmood\u001b[39m\u001b[38;5;124m\"\u001b[39m, axis\u001b[38;5;241m=\u001b[39m\u001b[38;5;241m1\u001b[39m)\n",
      "\u001b[1;31mNameError\u001b[0m: name 'data' is not defined"
     ]
    }
   ],
   "source": [
    "if __name__ == \"__main__\":\n",
    "    \n",
    "    warnings.filterwarnings(\"ignore\")\n",
    "    np.random.seed(42)\n",
    "\n",
    "    # Read the wine-quality csv file from the URL\n",
    "    csv_url = (\n",
    "        \"./Data/preprocess_data.csv\"\n",
    "    )\n",
    "    try:\n",
    "        data = pd.read_csv(csv_url, sep=\",\")\n",
    "        \n",
    "    except Exception as e:\n",
    "        logger.exception(\n",
    "            \"Unable to download training & test CSV, check your internet connection. Error: %s\", e\n",
    "        )\n",
    "\n",
    "    # Split the data into training and test sets. (0.8, 0.2) split.\n",
    "    train, test = train_test_split(data, test_size=0.2, random_state=42)\n",
    "\n",
    "    # The predicted column is \"mood\" which is a binary [0, 1]\n",
    "    train_x = train.drop(\"mood\", axis=1)\n",
    "    test_x = test.drop(\"mood\", axis=1)\n",
    "    train_y = train[[\"mood\"]]\n",
    "    test_y = test[[\"mood\"]]\n",
    "\n",
    "   \n",
    "    with mlflow.start_run():\n",
    "        \n",
    "        clf = lgb.LGBMClassifier()\n",
    "        clf.fit(train_x, train_y)\n",
    "\n",
    "        y_pred = clf.predict(test_x)\n",
    "        y_proba = clf.predict_proba(test_x)[:, 1]\n",
    "        \n",
    "        (roc_auc, average_precision) = eval_proba(test_y, y_proba)\n",
    "        (accuracy, precision, recall, f1) = eval_pred(test_y, y_pred)\n",
    "\n",
    "        #print( Lgbm model (alpha=%f, l1_ratio=%f):\" % (alpha, l1_ratio))\n",
    "        print(\"roc_auc: %s\" % roc_auc)\n",
    "        print(\"average_precision: %s\" % average_precision)\n",
    "        print(\"accuracy: %s\" % accuracy)\n",
    "        print(\"precision: %s\" % precision)\n",
    "        print(\"recall: %s\" % recall)\n",
    "        print(\"f1 score: %s\" % f1)\n",
    "\n",
    "        #mlflow.log_param(\"alpha\", alpha)\n",
    "        #mlflow.log_param(\"l1_ratio\", l1_ratio)\n",
    "        mlflow.log_metric(\"roc_auc\", roc_auc)\n",
    "        mlflow.log_metric(\"average_precision\", average_precision)\n",
    "        mlflow.log_metric(\"accuracy\", accuracy)\n",
    "        mlflow.log_metric(\"precision\", precision)\n",
    "        mlflow.log_metric(\"recall\", recall)\n",
    "        mlflow.log_metric(\"f1 score\", f1)\n",
    "\n",
    "        tracking_url_type_store = urlparse(mlflow.get_tracking_uri()).scheme\n",
    "\n",
    "\n",
    "        # Model registry does not work with file store\n",
    "        if tracking_url_type_store != \"file\":\n",
    "\n",
    "            # Register the model\n",
    "            # There are other ways to use the Model Registry, which depends on the use case,\n",
    "            # please refer to the doc for more information:\n",
    "            # https://mlflow.org/docs/latest/model-registry.html#api-workflow\n",
    "            mlflow.sklearn.log_model(clf, \"model\", registered_model_name=\"LgbmModel\")\n",
    "        else:\n",
    "            mlflow.sklearn.log_model(clf, \"model\")"
   ]
  },
  {
   "cell_type": "code",
   "execution_count": null,
   "id": "7178b736-9309-4f42-9f28-a883cd19c1ec",
   "metadata": {},
   "outputs": [],
   "source": []
  }
 ],
 "metadata": {
  "kernelspec": {
   "display_name": "mlops",
   "language": "python",
   "name": "mlops"
  },
  "language_info": {
   "codemirror_mode": {
    "name": "ipython",
    "version": 3
   },
   "file_extension": ".py",
   "mimetype": "text/x-python",
   "name": "python",
   "nbconvert_exporter": "python",
   "pygments_lexer": "ipython3",
   "version": "3.8.5"
  }
 },
 "nbformat": 4,
 "nbformat_minor": 5
}
