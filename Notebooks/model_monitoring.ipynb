{
 "cells": [
  {
   "attachments": {},
   "cell_type": "markdown",
   "metadata": {
    "id": "pqMl9Ouxf6yn"
   },
   "source": [
    "# Classification Report"
   ]
  },
  {
   "attachments": {},
   "cell_type": "markdown",
   "metadata": {},
   "source": [
    "## Imports"
   ]
  },
  {
   "cell_type": "code",
   "execution_count": 1,
   "metadata": {
    "id": "8FP6JHGUf6ys"
   },
   "outputs": [
    {
     "name": "stderr",
     "output_type": "stream",
     "text": [
      "c:\\Users\\willi\\anaconda3\\envs\\mlops\\Lib\\site-packages\\umap\\distances.py:1063: NumbaDeprecationWarning: \u001b[1mThe 'nopython' keyword argument was not supplied to the 'numba.jit' decorator. The implicit default value for this argument is currently False, but it will be changed to True in Numba 0.59.0. See https://numba.readthedocs.io/en/stable/reference/deprecation.html#deprecation-of-object-mode-fall-back-behaviour-when-using-jit for details.\u001b[0m\n",
      "  @numba.jit()\n",
      "c:\\Users\\willi\\anaconda3\\envs\\mlops\\Lib\\site-packages\\umap\\distances.py:1071: NumbaDeprecationWarning: \u001b[1mThe 'nopython' keyword argument was not supplied to the 'numba.jit' decorator. The implicit default value for this argument is currently False, but it will be changed to True in Numba 0.59.0. See https://numba.readthedocs.io/en/stable/reference/deprecation.html#deprecation-of-object-mode-fall-back-behaviour-when-using-jit for details.\u001b[0m\n",
      "  @numba.jit()\n",
      "c:\\Users\\willi\\anaconda3\\envs\\mlops\\Lib\\site-packages\\umap\\distances.py:1086: NumbaDeprecationWarning: \u001b[1mThe 'nopython' keyword argument was not supplied to the 'numba.jit' decorator. The implicit default value for this argument is currently False, but it will be changed to True in Numba 0.59.0. See https://numba.readthedocs.io/en/stable/reference/deprecation.html#deprecation-of-object-mode-fall-back-behaviour-when-using-jit for details.\u001b[0m\n",
      "  @numba.jit()\n",
      "c:\\Users\\willi\\anaconda3\\envs\\mlops\\Lib\\site-packages\\umap\\umap_.py:660: NumbaDeprecationWarning: \u001b[1mThe 'nopython' keyword argument was not supplied to the 'numba.jit' decorator. The implicit default value for this argument is currently False, but it will be changed to True in Numba 0.59.0. See https://numba.readthedocs.io/en/stable/reference/deprecation.html#deprecation-of-object-mode-fall-back-behaviour-when-using-jit for details.\u001b[0m\n",
      "  @numba.jit()\n"
     ]
    }
   ],
   "source": [
    "\n",
    "import numpy as np\n",
    "import pandas as pd\n",
    "from pathlib import Path\n",
    "from model_deployment import mood_prediction\n",
    "\n",
    "\n",
    "from datetime import date\n",
    "from sklearn.model_selection import train_test_split\n",
    "\n",
    "\n",
    "from evidently.pipeline.column_mapping import ColumnMapping\n",
    "from evidently.options import ColorOptions\n",
    "from evidently.report import Report\n",
    "from evidently.metric_preset import DataDriftPreset\n",
    "from evidently.metric_preset import DataQualityPreset\n",
    "from evidently.metric_preset import TargetDriftPreset\n",
    "from evidently.metric_preset import ClassificationPreset\n",
    "\n",
    "from evidently.metrics import (\n",
    "    ClassificationQualityMetric,\n",
    "    ClassificationClassBalance,\n",
    "    ClassificationConfusionMatrix,\n",
    "    ClassificationQualityByClass,\n",
    "    ClassificationQualityByFeatureTable,\n",
    "    ConflictTargetMetric,\n",
    "    ConflictPredictionMetric \n",
    ")"
   ]
  },
  {
   "attachments": {},
   "cell_type": "markdown",
   "metadata": {
    "id": "x3OWHRQ0f6yv"
   },
   "source": [
    "## Spotify Data"
   ]
  },
  {
   "attachments": {},
   "cell_type": "markdown",
   "metadata": {},
   "source": [
    "### Load data"
   ]
  },
  {
   "cell_type": "code",
   "execution_count": 10,
   "metadata": {},
   "outputs": [],
   "source": [
    "#Data Types dictionary\n",
    "dtype = {\n",
    "       'popularity':'int8',\n",
    "       'genres': 'int8',\n",
    "       'sub-genres': 'int8',\n",
    "       'explicit':'int8', \n",
    "       'followers': int, \n",
    "       'danceability':float,\n",
    "       'energy': float, \n",
    "       'key':'int8',\n",
    "       'loudness': float,\n",
    "       'mode':'int8', \n",
    "       'instrumentalness':'int8',\n",
    "       'liveness':'int8',\n",
    "       'tempo':float, \n",
    "       'duration_ms':int,\n",
    "       'time_signature':'int8',\n",
    "       'mood': 'int8' \n",
    "       }"
   ]
  },
  {
   "cell_type": "code",
   "execution_count": 11,
   "metadata": {
    "id": "uMLMel0Cf6yw"
   },
   "outputs": [],
   "source": [
    "csv = (\n",
    "        \"C:/Users/willi/Python/Spotify_Project/Data/preprocess_data.csv\"\n",
    "        )\n",
    "\n",
    "data = pd.read_csv(csv, sep=\",\", dtype = dtype)"
   ]
  },
  {
   "cell_type": "code",
   "execution_count": 12,
   "metadata": {},
   "outputs": [],
   "source": [
    "csv = (\n",
    "        \"C:/Users/willi/Python/Spotify_Project/Data/preprocess_new_data.csv\"\n",
    "        )\n",
    "\n",
    "new_data = pd.read_csv(csv, sep=\",\",dtype=dtype)"
   ]
  },
  {
   "cell_type": "code",
   "execution_count": 5,
   "metadata": {},
   "outputs": [
    {
     "data": {
      "text/html": [
       "<div>\n",
       "<style scoped>\n",
       "    .dataframe tbody tr th:only-of-type {\n",
       "        vertical-align: middle;\n",
       "    }\n",
       "\n",
       "    .dataframe tbody tr th {\n",
       "        vertical-align: top;\n",
       "    }\n",
       "\n",
       "    .dataframe thead th {\n",
       "        text-align: right;\n",
       "    }\n",
       "</style>\n",
       "<table border=\"1\" class=\"dataframe\">\n",
       "  <thead>\n",
       "    <tr style=\"text-align: right;\">\n",
       "      <th></th>\n",
       "      <th>popularity</th>\n",
       "      <th>genres</th>\n",
       "      <th>sub-genres</th>\n",
       "      <th>explicit</th>\n",
       "      <th>followers</th>\n",
       "      <th>danceability</th>\n",
       "      <th>energy</th>\n",
       "      <th>key</th>\n",
       "      <th>loudness</th>\n",
       "      <th>mode</th>\n",
       "      <th>instrumentalness</th>\n",
       "      <th>liveness</th>\n",
       "      <th>tempo</th>\n",
       "      <th>duration_ms</th>\n",
       "      <th>time_signature</th>\n",
       "      <th>mood</th>\n",
       "    </tr>\n",
       "  </thead>\n",
       "  <tbody>\n",
       "    <tr>\n",
       "      <th>0</th>\n",
       "      <td>87</td>\n",
       "      <td>9</td>\n",
       "      <td>3</td>\n",
       "      <td>1</td>\n",
       "      <td>5560201</td>\n",
       "      <td>0.829</td>\n",
       "      <td>0.436</td>\n",
       "      <td>3</td>\n",
       "      <td>-8.205</td>\n",
       "      <td>1</td>\n",
       "      <td>0</td>\n",
       "      <td>0</td>\n",
       "      <td>143.031</td>\n",
       "      <td>223204</td>\n",
       "      <td>4</td>\n",
       "      <td>1</td>\n",
       "    </tr>\n",
       "    <tr>\n",
       "      <th>1</th>\n",
       "      <td>90</td>\n",
       "      <td>14</td>\n",
       "      <td>27</td>\n",
       "      <td>1</td>\n",
       "      <td>5904499</td>\n",
       "      <td>0.517</td>\n",
       "      <td>0.675</td>\n",
       "      <td>6</td>\n",
       "      <td>-5.382</td>\n",
       "      <td>1</td>\n",
       "      <td>0</td>\n",
       "      <td>0</td>\n",
       "      <td>203.853</td>\n",
       "      <td>163855</td>\n",
       "      <td>4</td>\n",
       "      <td>1</td>\n",
       "    </tr>\n",
       "    <tr>\n",
       "      <th>2</th>\n",
       "      <td>90</td>\n",
       "      <td>20</td>\n",
       "      <td>9</td>\n",
       "      <td>0</td>\n",
       "      <td>5482747</td>\n",
       "      <td>0.574</td>\n",
       "      <td>0.935</td>\n",
       "      <td>1</td>\n",
       "      <td>-2.783</td>\n",
       "      <td>1</td>\n",
       "      <td>0</td>\n",
       "      <td>0</td>\n",
       "      <td>166.008</td>\n",
       "      <td>213234</td>\n",
       "      <td>4</td>\n",
       "      <td>1</td>\n",
       "    </tr>\n",
       "    <tr>\n",
       "      <th>3</th>\n",
       "      <td>99</td>\n",
       "      <td>15</td>\n",
       "      <td>4</td>\n",
       "      <td>0</td>\n",
       "      <td>4018287</td>\n",
       "      <td>0.668</td>\n",
       "      <td>0.758</td>\n",
       "      <td>5</td>\n",
       "      <td>-5.176</td>\n",
       "      <td>0</td>\n",
       "      <td>0</td>\n",
       "      <td>0</td>\n",
       "      <td>147.989</td>\n",
       "      <td>165671</td>\n",
       "      <td>3</td>\n",
       "      <td>1</td>\n",
       "    </tr>\n",
       "    <tr>\n",
       "      <th>4</th>\n",
       "      <td>91</td>\n",
       "      <td>8</td>\n",
       "      <td>2</td>\n",
       "      <td>1</td>\n",
       "      <td>75347210</td>\n",
       "      <td>0.817</td>\n",
       "      <td>0.440</td>\n",
       "      <td>10</td>\n",
       "      <td>-8.482</td>\n",
       "      <td>0</td>\n",
       "      <td>0</td>\n",
       "      <td>0</td>\n",
       "      <td>142.024</td>\n",
       "      <td>272113</td>\n",
       "      <td>4</td>\n",
       "      <td>1</td>\n",
       "    </tr>\n",
       "  </tbody>\n",
       "</table>\n",
       "</div>"
      ],
      "text/plain": [
       "   popularity genres sub-genres  explicit  followers  danceability  energy   \n",
       "0          87      9          3         1    5560201         0.829   0.436  \\\n",
       "1          90     14         27         1    5904499         0.517   0.675   \n",
       "2          90     20          9         0    5482747         0.574   0.935   \n",
       "3          99     15          4         0    4018287         0.668   0.758   \n",
       "4          91      8          2         1   75347210         0.817   0.440   \n",
       "\n",
       "   key  loudness  mode  instrumentalness  liveness    tempo  duration_ms   \n",
       "0    3    -8.205     1                 0         0  143.031       223204  \\\n",
       "1    6    -5.382     1                 0         0  203.853       163855   \n",
       "2    1    -2.783     1                 0         0  166.008       213234   \n",
       "3    5    -5.176     0                 0         0  147.989       165671   \n",
       "4   10    -8.482     0                 0         0  142.024       272113   \n",
       "\n",
       "   time_signature  mood  \n",
       "0               4     1  \n",
       "1               4     1  \n",
       "2               4     1  \n",
       "3               3     1  \n",
       "4               4     1  "
      ]
     },
     "execution_count": 5,
     "metadata": {},
     "output_type": "execute_result"
    }
   ],
   "source": [
    "new_data.head()"
   ]
  },
  {
   "cell_type": "code",
   "execution_count": 6,
   "metadata": {
    "id": "pNwLFltuf6yx"
   },
   "outputs": [
    {
     "name": "stdout",
     "output_type": "stream",
     "text": [
      "<class 'pandas.core.frame.DataFrame'>\n",
      "RangeIndex: 100 entries, 0 to 99\n",
      "Data columns (total 16 columns):\n",
      " #   Column            Non-Null Count  Dtype  \n",
      "---  ------            --------------  -----  \n",
      " 0   popularity        100 non-null    int8   \n",
      " 1   genres            100 non-null    object \n",
      " 2   sub-genres        100 non-null    object \n",
      " 3   explicit          100 non-null    int8   \n",
      " 4   followers         100 non-null    int32  \n",
      " 5   danceability      100 non-null    float64\n",
      " 6   energy            100 non-null    float64\n",
      " 7   key               100 non-null    int8   \n",
      " 8   loudness          100 non-null    float64\n",
      " 9   mode              100 non-null    int8   \n",
      " 10  instrumentalness  100 non-null    int8   \n",
      " 11  liveness          100 non-null    int8   \n",
      " 12  tempo             100 non-null    float64\n",
      " 13  duration_ms       100 non-null    int32  \n",
      " 14  time_signature    100 non-null    int8   \n",
      " 15  mood              100 non-null    int8   \n",
      "dtypes: float64(4), int32(2), int8(8), object(2)\n",
      "memory usage: 6.4+ KB\n"
     ]
    }
   ],
   "source": [
    "new_data.info()"
   ]
  },
  {
   "attachments": {},
   "cell_type": "markdown",
   "metadata": {
    "id": "4VypH7uAf6yz"
   },
   "source": [
    "## Classification Model"
   ]
  },
  {
   "attachments": {},
   "cell_type": "markdown",
   "metadata": {},
   "source": [
    "### Config"
   ]
  },
  {
   "cell_type": "code",
   "execution_count": 13,
   "metadata": {},
   "outputs": [],
   "source": [
    "#today = date.today()\n",
    "\n",
    "target = 'mood'\n",
    "prediction = 'prediction'\n",
    "numerical_features = ['popularity', 'followers', 'danceability', 'energy', 'loudness', 'tempo','duration_ms']\n",
    "categorical_features = ['genres', 'sub-genres', 'explicit','liveness','instrumentalness','key','mode','time_signature']\n",
    "\n",
    "reports_dir = Path('C:/Users/willi/Python/Spotify_Project/reports') #/ f'{today}'\n",
    "reports_dir.mkdir(exist_ok=True)"
   ]
  },
  {
   "attachments": {},
   "cell_type": "markdown",
   "metadata": {
    "id": "9YMdccRpf6y3"
   },
   "source": [
    "### Model training"
   ]
  },
  {
   "cell_type": "code",
   "execution_count": 14,
   "metadata": {},
   "outputs": [],
   "source": [
    "X_data = data.drop(\"mood\", axis=1)\n",
    "X_new_data = new_data.drop(\"mood\", axis=1)"
   ]
  },
  {
   "cell_type": "code",
   "execution_count": 15,
   "metadata": {},
   "outputs": [
    {
     "name": "stderr",
     "output_type": "stream",
     "text": [
      "2023/05/27 18:33:30 WARNING mlflow.pyfunc: Detected one or more mismatches between the model's dependencies and the current Python environment:\n",
      " - packaging (current: 23.0, required: packaging==23.1)\n",
      "To fix the mismatches, call `mlflow.pyfunc.get_model_dependencies(model_uri)` to fetch the model's environment and install dependencies using the resulting environment file.\n",
      "2023/05/27 18:33:32 WARNING mlflow.pyfunc: Detected one or more mismatches between the model's dependencies and the current Python environment:\n",
      " - packaging (current: 23.0, required: packaging==23.1)\n",
      "To fix the mismatches, call `mlflow.pyfunc.get_model_dependencies(model_uri)` to fetch the model's environment and install dependencies using the resulting environment file.\n"
     ]
    }
   ],
   "source": [
    "data['prediction']= mood_prediction(X_data)\n",
    "new_data['prediction'] = mood_prediction(X_new_data)"
   ]
  },
  {
   "cell_type": "code",
   "execution_count": 16,
   "metadata": {},
   "outputs": [
    {
     "name": "stdout",
     "output_type": "stream",
     "text": [
      "<class 'pandas.core.frame.DataFrame'>\n",
      "RangeIndex: 1800 entries, 0 to 1799\n",
      "Data columns (total 17 columns):\n",
      " #   Column            Non-Null Count  Dtype  \n",
      "---  ------            --------------  -----  \n",
      " 0   popularity        1800 non-null   int8   \n",
      " 1   genres            1800 non-null   int8   \n",
      " 2   sub-genres        1800 non-null   int8   \n",
      " 3   explicit          1800 non-null   int8   \n",
      " 4   followers         1800 non-null   int32  \n",
      " 5   danceability      1800 non-null   float64\n",
      " 6   energy            1800 non-null   float64\n",
      " 7   key               1800 non-null   int8   \n",
      " 8   loudness          1800 non-null   float64\n",
      " 9   mode              1800 non-null   int8   \n",
      " 10  instrumentalness  1800 non-null   int8   \n",
      " 11  liveness          1800 non-null   int8   \n",
      " 12  tempo             1800 non-null   float64\n",
      " 13  duration_ms       1800 non-null   int32  \n",
      " 14  time_signature    1800 non-null   int8   \n",
      " 15  mood              1800 non-null   object \n",
      " 16  prediction        1800 non-null   object \n",
      "dtypes: float64(4), int32(2), int8(9), object(2)\n",
      "memory usage: 114.4+ KB\n"
     ]
    }
   ],
   "source": [
    "data['mood'] = data['mood'].astype('str')\n",
    "data['prediction'] = data['prediction'].astype('str')\n",
    "data.info()"
   ]
  },
  {
   "cell_type": "code",
   "execution_count": 17,
   "metadata": {},
   "outputs": [
    {
     "name": "stdout",
     "output_type": "stream",
     "text": [
      "<class 'pandas.core.frame.DataFrame'>\n",
      "RangeIndex: 100 entries, 0 to 99\n",
      "Data columns (total 17 columns):\n",
      " #   Column            Non-Null Count  Dtype  \n",
      "---  ------            --------------  -----  \n",
      " 0   popularity        100 non-null    int8   \n",
      " 1   genres            100 non-null    int8   \n",
      " 2   sub-genres        100 non-null    int8   \n",
      " 3   explicit          100 non-null    int8   \n",
      " 4   followers         100 non-null    int32  \n",
      " 5   danceability      100 non-null    float64\n",
      " 6   energy            100 non-null    float64\n",
      " 7   key               100 non-null    int8   \n",
      " 8   loudness          100 non-null    float64\n",
      " 9   mode              100 non-null    int8   \n",
      " 10  instrumentalness  100 non-null    int8   \n",
      " 11  liveness          100 non-null    int8   \n",
      " 12  tempo             100 non-null    float64\n",
      " 13  duration_ms       100 non-null    int32  \n",
      " 14  time_signature    100 non-null    int8   \n",
      " 15  mood              100 non-null    object \n",
      " 16  prediction        100 non-null    object \n",
      "dtypes: float64(4), int32(2), int8(9), object(2)\n",
      "memory usage: 6.5+ KB\n"
     ]
    }
   ],
   "source": [
    "new_data['mood'] = new_data['mood'].astype('str')\n",
    "new_data['prediction'] = new_data['prediction'].astype('str')\n",
    "new_data.info()"
   ]
  },
  {
   "attachments": {},
   "cell_type": "markdown",
   "metadata": {
    "id": "4i2oy0k1f6y7"
   },
   "source": [
    "# Model Monitoring"
   ]
  },
  {
   "cell_type": "code",
   "execution_count": 18,
   "metadata": {},
   "outputs": [],
   "source": [
    "reference_data = data"
   ]
  },
  {
   "cell_type": "code",
   "execution_count": 19,
   "metadata": {},
   "outputs": [],
   "source": [
    "current_data = new_data"
   ]
  },
  {
   "cell_type": "code",
   "execution_count": 20,
   "metadata": {
    "id": "Rg0JipUif6y7"
   },
   "outputs": [],
   "source": [
    "column_mapping = ColumnMapping()\n",
    "\n",
    "column_mapping.target = target\n",
    "column_mapping.prediction = prediction\n",
    "column_mapping.numerical_features = numerical_features\n",
    "column_mapping.categorical_features = categorical_features\n",
    "column_mapping.pos_label = '1'"
   ]
  },
  {
   "attachments": {},
   "cell_type": "markdown",
   "metadata": {},
   "source": [
    "## Model perfomance"
   ]
  },
  {
   "cell_type": "code",
   "execution_count": 21,
   "metadata": {
    "id": "6G7KzxSxf6y9"
   },
   "outputs": [],
   "source": [
    "#label binary classification\n",
    "classification_report = Report(metrics=[\n",
    "    ClassificationQualityMetric(),\n",
    "    ClassificationClassBalance(),\n",
    "    ConflictTargetMetric(),\n",
    "    ConflictPredictionMetric(),\n",
    "    ClassificationConfusionMatrix(),\n",
    "    ClassificationQualityByClass(),\n",
    "    ClassificationQualityByFeatureTable(columns = numerical_features),\n",
    "])\n",
    "\n",
    "classification_report.run(reference_data = reference_data, current_data= current_data, column_mapping=column_mapping)"
   ]
  },
  {
   "cell_type": "code",
   "execution_count": 22,
   "metadata": {
    "id": "2kN2qqaLf6y-"
   },
   "outputs": [],
   "source": [
    "classification_report_path = reports_dir / 'classification_report.html'\n",
    "classification_report.save_html(classification_report_path)"
   ]
  },
  {
   "attachments": {},
   "cell_type": "markdown",
   "metadata": {
    "id": "62qRRKmhf6y9"
   },
   "source": [
    "##  Target drift"
   ]
  },
  {
   "cell_type": "code",
   "execution_count": 23,
   "metadata": {
    "id": "afFgUlwvf6y-"
   },
   "outputs": [],
   "source": [
    "target_drift_report = Report(metrics=[TargetDriftPreset()])\n",
    "target_drift_report.run(\n",
    "    reference_data=reference_data,\n",
    "    current_data=current_data,\n",
    "    column_mapping=column_mapping\n",
    ")"
   ]
  },
  {
   "cell_type": "code",
   "execution_count": 24,
   "metadata": {
    "id": "5AyuTggif6y_"
   },
   "outputs": [],
   "source": [
    "target_drift_report_path = reports_dir / 'target_drift.html'\n",
    "target_drift_report.save_html(target_drift_report_path)"
   ]
  },
  {
   "attachments": {},
   "cell_type": "markdown",
   "metadata": {
    "id": "imlXej4of6zE"
   },
   "source": [
    "## Data drift"
   ]
  },
  {
   "cell_type": "code",
   "execution_count": 25,
   "metadata": {
    "id": "x-CrzsxSf6zE"
   },
   "outputs": [],
   "source": [
    "column_mapping = ColumnMapping()\n",
    "column_mapping.numerical_features = numerical_features"
   ]
  },
  {
   "cell_type": "code",
   "execution_count": 26,
   "metadata": {
    "id": "cKdcopYPf6zE"
   },
   "outputs": [],
   "source": [
    "data_drift_report = Report(metrics=[DataDriftPreset()])\n",
    "data_drift_report.run(\n",
    "    reference_data=reference_data,\n",
    "    current_data=current_data,\n",
    "    column_mapping=column_mapping\n",
    ")"
   ]
  },
  {
   "cell_type": "code",
   "execution_count": 27,
   "metadata": {
    "id": "Xy7Y6S8Af6zF"
   },
   "outputs": [],
   "source": [
    "data_drift_report_path = reports_dir / 'data_drift.html'\n",
    "data_drift_report.save_html(data_drift_report_path)"
   ]
  },
  {
   "attachments": {},
   "cell_type": "markdown",
   "metadata": {},
   "source": [
    "## Data quality"
   ]
  },
  {
   "cell_type": "code",
   "execution_count": 28,
   "metadata": {},
   "outputs": [],
   "source": [
    "column_mapping = ColumnMapping()\n",
    "column_mapping.numerical_features = numerical_features"
   ]
  },
  {
   "cell_type": "code",
   "execution_count": 29,
   "metadata": {},
   "outputs": [],
   "source": [
    "data_quality_report = Report(metrics=[DataQualityPreset()])\n",
    "data_quality_report.run(\n",
    "    reference_data=reference_data,\n",
    "    current_data=current_data,\n",
    "    column_mapping=column_mapping\n",
    ")"
   ]
  },
  {
   "cell_type": "code",
   "execution_count": 30,
   "metadata": {},
   "outputs": [],
   "source": [
    "data_quality_report_path = reports_dir / 'data_quality.html'\n",
    "data_quality_report.save_html(data_quality_report_path)"
   ]
  }
 ],
 "metadata": {
  "colab": {
   "collapsed_sections": [
    "xnrzxRRnf6y_",
    "BAXuFSrTf6zC"
   ],
   "name": "bicycle_demand_monitoring.ipynb",
   "provenance": []
  },
  "kernelspec": {
   "display_name": "mlops",
   "language": "python",
   "name": "python3"
  },
  "language_info": {
   "codemirror_mode": {
    "name": "ipython",
    "version": 3
   },
   "file_extension": ".py",
   "mimetype": "text/x-python",
   "name": "python",
   "nbconvert_exporter": "python",
   "pygments_lexer": "ipython3",
   "version": "3.11.3"
  },
  "toc": {
   "base_numbering": 1,
   "nav_menu": {},
   "number_sections": true,
   "sideBar": true,
   "skip_h1_title": false,
   "title_cell": "Table of Contents",
   "title_sidebar": "Contents",
   "toc_cell": false,
   "toc_position": {
    "height": "calc(100% - 180px)",
    "left": "10px",
    "top": "150px",
    "width": "305.994px"
   },
   "toc_section_display": true,
   "toc_window_display": true
  }
 },
 "nbformat": 4,
 "nbformat_minor": 4
}
