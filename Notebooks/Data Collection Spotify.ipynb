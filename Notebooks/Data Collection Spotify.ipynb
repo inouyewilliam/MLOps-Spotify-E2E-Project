{
 "cells": [
  {
   "attachments": {},
   "cell_type": "markdown",
   "id": "c29b1687",
   "metadata": {},
   "source": [
    "# Import Libraries"
   ]
  },
  {
   "cell_type": "code",
   "execution_count": null,
   "id": "0be323dd",
   "metadata": {},
   "outputs": [],
   "source": [
    "import pandas as pd\n",
    "import numpy as np\n",
    "\n",
    "#%matplotlib inline\n",
    "import matplotlib.pyplot as plt\n",
    "import seaborn as sns\n",
    "\n",
    "import spotipy\n",
    "from spotipy.oauth2 import SpotifyClientCredentials"
   ]
  },
  {
   "attachments": {},
   "cell_type": "markdown",
   "id": "379903ef",
   "metadata": {},
   "source": [
    "# Data Description"
   ]
  },
  {
   "attachments": {},
   "cell_type": "markdown",
   "id": "e3f06170",
   "metadata": {},
   "source": [
    "#### Danceability\n",
    "Danceability describes how suitable a track is for dancing based on a combination of musical elements including tempo, rhythm stability, beat strength, and overall regularity. A value of 0.0 is least danceable and 1.0 is most danceable.\n",
    "\n",
    "#### Duration_ms\n",
    "The duration of the track in milliseconds.\n",
    "\n",
    "#### Energy\n",
    "Energy is a measure from 0.0 to 1.0 and represents a perceptual measure of intensity and activity. Typically, energetic tracks feel fast, loud, and noisy. For example, death metal has high energy, while a Bach prelude scores low on the scale. Perceptual features contributing to this attribute include dynamic range, perceived loudness, timbre, onset rate, and general entropy.\n",
    "\n",
    "#### Instrumentalness\n",
    "\n",
    "Predicts whether a track contains no vocals. \"Ooh\" and \"aah\" sounds are treated as instrumental in this context. Rap or spoken word tracks are clearly \"vocal\". The closer the instrumentalness value is to 1.0, the greater likelihood the track contains no vocal content. Values above 0.5 are intended to represent instrumental tracks, but confidence is higher as the value approaches 1.0.\n",
    "\n",
    "#### Key\n",
    "The key the track is in. Integers map to pitches using standard Pitch Class notation. E.g. 0 = C, 1 = C♯/D♭, 2 = D, and so on. If no key was detected, the value is -1.\n",
    "\n",
    "#### Liveness\n",
    "Detects the presence of an audience in the recording. Higher liveness values represent an increased probability that the track was performed live. A value above 0.8 provides strong likelihood that the track is live.\n",
    "\n",
    "#### Loudness\n",
    "The overall loudness of a track in decibels (dB). Loudness values are averaged across the entire track and are useful for comparing relative loudness of tracks. Loudness is the quality of a sound that is the primary psychological correlate of physical strength (amplitude). Values typically range between -60 and 0 db.\n",
    "\n",
    "#### Mode\n",
    "Mode indicates the modality (major or minor) of a track, the type of scale from which its melodic content is derived. Major is represented by 1 and minor is 0.\n",
    "\n",
    "#### Speechiness\n",
    "Speechiness detects the presence of spoken words in a track. The more exclusively speech-like the recording (e.g. talk show, audio book, poetry), the closer to 1.0 the attribute value. Values above 0.66 describe tracks that are probably made entirely of spoken words. Values between 0.33 and 0.66 describe tracks that may contain both music and speech, either in sections or layered, including such cases as rap music. Values below 0.33 most likely represent music and other non-speech-like tracks.\n",
    "\n",
    "#### Tempo\n",
    "The overall estimated tempo of a track in beats per minute (BPM). In musical terminology, tempo is the speed or pace of a given piece and derives directly from the average beat duration.\n",
    "\n",
    "#### Time_signature\n",
    "An estimated time signature. The time signature (meter) is a notational convention to specify how many beats are in each bar (or measure). The time signature ranges from 3 to 7 indicating time signatures of \"3/4\", to \"7/4\".\n",
    "\n",
    "#### Valence\n",
    "A measure from 0.0 to 1.0 describing the musical positiveness conveyed by a track. Tracks with high valence sound more positive (e.g. happy, cheerful, euphoric), while tracks with low valence sound more negative (e.g. sad, depressed, angry)."
   ]
  },
  {
   "attachments": {},
   "cell_type": "markdown",
   "id": "f037aea4",
   "metadata": {},
   "source": [
    "# Autentication Method "
   ]
  },
  {
   "cell_type": "code",
   "execution_count": null,
   "id": "85d4b9a3",
   "metadata": {},
   "outputs": [],
   "source": [
    "with open(\"C:/Users/willi/Python/Spotify_Project/secret.txt\") as f:\n",
    "    secret_ls = f.readlines()\n",
    "    CLIENT_ID = secret_ls[0][:-1]\n",
    "    CLIENT_SECRET = secret_ls[1]\n",
    "    \n",
    "client_credentials_manager = SpotifyClientCredentials(client_id=CLIENT_ID, client_secret=CLIENT_SECRET)\n",
    "sp = spotipy.Spotify(client_credentials_manager = client_credentials_manager)"
   ]
  },
  {
   "attachments": {},
   "cell_type": "markdown",
   "id": "8420b626",
   "metadata": {},
   "source": [
    "# Top Hits playlists by year"
   ]
  },
  {
   "cell_type": "code",
   "execution_count": null,
   "id": "207bf0fc",
   "metadata": {},
   "outputs": [],
   "source": [
    "#2005\n",
    "playlist_link = \"https://open.spotify.com/playlist/37i9dQZF1DWWzQTBs5BHX9?si=0b8e18d6445e44a0\"\n",
    "playlist_2005 = playlist_link.split(\"/\")[-1].split(\"?\")[0]\n",
    "\n",
    "#2006\n",
    "playlist_link = \"https://open.spotify.com/playlist/37i9dQZF1DX1vSJnMeoy3V?si=b7943cf5fab5499b\"\n",
    "playlist_2006 = playlist_link.split(\"/\")[-1].split(\"?\")[0]\n",
    "\n",
    "#2007\n",
    "playlist_link = \"https://open.spotify.com/playlist/37i9dQZF1DX3j9EYdzv2N9?si=53ae42c9ceeb430c\"\n",
    "playlist_2007 = playlist_link.split(\"/\")[-1].split(\"?\")[0]\n",
    "\n",
    "#2008\n",
    "playlist_link = \"https://open.spotify.com/playlist/37i9dQZF1DWYuGZUE4XQXm?si=f61deefc66e64731\"\n",
    "playlist_2008 = playlist_link.split(\"/\")[-1].split(\"?\")[0]\n",
    "\n",
    "#2009\n",
    "playlist_link = \"https://open.spotify.com/playlist/37i9dQZF1DX4UkKv8ED8jp?si=ff5b01a80f3c4015\"\n",
    "playlist_2009 = playlist_link.split(\"/\")[-1].split(\"?\")[0]\n",
    "\n",
    "#2010\n",
    "playlist_link = \"https://open.spotify.com/playlist/37i9dQZF1DXc6IFF23C9jj?si=6fa15385caaa440a\"\n",
    "playlist_2010 = playlist_link.split(\"/\")[-1].split(\"?\")[0]\n",
    "\n",
    "#2011\n",
    "playlist_link = \"https://open.spotify.com/playlist/37i9dQZF1DXcagnSNtrGuJ?si=8b38eb24151a4d98\"\n",
    "playlist_2011 = playlist_link.split(\"/\")[-1].split(\"?\")[0]\n",
    "\n",
    "#2012\n",
    "playlist_link = \"https://open.spotify.com/playlist/37i9dQZF1DX0yEZaMOXna3?si=8d852392b8254f93\"\n",
    "playlist_2012 = playlist_link.split(\"/\")[-1].split(\"?\")[0]\n",
    "\n",
    "#2013\n",
    "playlist_link = \"https://open.spotify.com/playlist/37i9dQZF1DX3Sp0P28SIer?si=136ddbd666ab4c89\"\n",
    "playlist_2013 = playlist_link.split(\"/\")[-1].split(\"?\")[0]\n",
    "\n",
    "#2014\n",
    "playlist_link = \"https://open.spotify.com/playlist/37i9dQZF1DX0h0QnLkMBl4?si=9f02ec79369a4a0c\"\n",
    "playlist_2014 = playlist_link.split(\"/\")[-1].split(\"?\")[0]\n",
    "\n",
    "#2015\n",
    "playlist_link = \"https://open.spotify.com/playlist/37i9dQZF1DX9ukdrXQLJGZ?si=2f8192fff8944999\"\n",
    "playlist_2015 = playlist_link.split(\"/\")[-1].split(\"?\")[0]\n",
    "\n",
    "#2016\n",
    "playlist_link = \"https://open.spotify.com/playlist/37i9dQZF1DX8XZ6AUo9R4R?si=691252a9e3e544bd\"\n",
    "playlist_2016 = playlist_link.split(\"/\")[-1].split(\"?\")[0]\n",
    "\n",
    "#2017\n",
    "playlist_link = \"https://open.spotify.com/playlist/37i9dQZF1DWTE7dVUebpUW?si=eaf56e3029d64e0a\"\n",
    "playlist_2017 = playlist_link.split(\"/\")[-1].split(\"?\")[0]\n",
    "\n",
    "#2018\n",
    "playlist_link = \"https://open.spotify.com/playlist/37i9dQZF1DXe2bobNYDtW8?si=35188542f077419f\"\n",
    "playlist_2018 = playlist_link.split(\"/\")[-1].split(\"?\")[0]\n",
    "\n",
    "#2019\n",
    "playlist_link = \"https://open.spotify.com/playlist/37i9dQZF1DWVRSukIED0e9?si=42c426f041bf4af5\"\n",
    "playlist_2019 = playlist_link.split(\"/\")[-1].split(\"?\")[0]\n",
    "\n",
    "#2020\n",
    "playlist_link = \"https://open.spotify.com/playlist/2fmTTbBkXi8pewbUvG3CeZ?si=285bf773dc114cb8\"\n",
    "playlist_2020 = playlist_link.split(\"/\")[-1].split(\"?\")[0]\n",
    "\n",
    "#2021\n",
    "playlist_link = \"https://open.spotify.com/playlist/5GhQiRkGuqzpWZSE7OU4Se?si=02f0d20c63e349bd\"\n",
    "playlist_2021 = playlist_link.split(\"/\")[-1].split(\"?\")[0]\n",
    "\n",
    "#2022\n",
    "playlist_link = \"https://open.spotify.com/playlist/56r5qRUv3jSxADdmBkhcz7?si=12f218d444ba44fe\"\n",
    "playlist_2022 = playlist_link.split(\"/\")[-1].split(\"?\")[0] "
   ]
  },
  {
   "attachments": {},
   "cell_type": "markdown",
   "id": "95ad25fa",
   "metadata": {},
   "source": [
    "# Make DataFrame of a playlist"
   ]
  },
  {
   "cell_type": "code",
   "execution_count": null,
   "id": "5f5485cc",
   "metadata": {},
   "outputs": [],
   "source": [
    "def analyze_playlist(creator, playlist_id):\n",
    "\n",
    "    #Step 1\n",
    "\n",
    "    playlist_features_list = [\"artist\",\"album\",\"track_name\",\"release_date\",\"popularity\",\"genres\",\"explicit\",\"followers\",\"track_id\",\"danceability\",\"energy\",\"key\",\"loudness\",\"mode\", \"speechiness\",\"instrumentalness\",\"liveness\",\"valence\",\"tempo\", \"duration_ms\",\"time_signature\"]\n",
    "    \n",
    "    playlist_df = pd.DataFrame(columns = playlist_features_list)\n",
    "    \n",
    "    #Step 2\n",
    "    \n",
    "    playlist = sp.user_playlist_tracks(creator, playlist_id)[\"items\"]\n",
    "    for track in playlist:\n",
    "        # Create empty dict\n",
    "        playlist_features = {}\n",
    "        # Get metadata\n",
    "        playlist_features[\"artist\"] = track[\"track\"][\"album\"][\"artists\"][0][\"name\"]\n",
    "        playlist_features[\"album\"] = track[\"track\"][\"album\"][\"name\"]\n",
    "        playlist_features[\"track_name\"] = track[\"track\"][\"name\"]\n",
    "        playlist_features[\"release_date\"] = track[\"track\"][\"album\"][\"release_date\"]\n",
    "        playlist_features[\"popularity\"] = track[\"track\"][\"popularity\"]\n",
    "        playlist_features[\"genres\"] = [sp.artist(track[\"track\"][\"artists\"][0][\"uri\"])[\"genres\"]]\n",
    "        playlist_features[\"explicit\"] = track[\"track\"][\"explicit\"]\n",
    "        playlist_features[\"followers\"] = sp.artist(track[\"track\"][\"artists\"][0][\"uri\"])[\"followers\"][\"total\"]\n",
    "        playlist_features[\"track_id\"] = track[\"track\"][\"id\"]\n",
    "        \n",
    "        \n",
    "        # Get audio features\n",
    "        audio_features = sp.audio_features(playlist_features[\"track_id\"])[0]\n",
    "        for feature in playlist_features_list[9:]: \n",
    "                     (playlist_features[feature]) = (audio_features[feature])\n",
    "                      \n",
    "                    \n",
    "        # Concat the dfs\n",
    "        track_df = pd.DataFrame(playlist_features, index = [0])\n",
    "        playlist_df = pd.concat([playlist_df, track_df], ignore_index = True)\n",
    "    \n",
    "    #Step 3\n",
    "        \n",
    "    return playlist_df"
   ]
  },
  {
   "attachments": {},
   "cell_type": "markdown",
   "id": "f1869b6c",
   "metadata": {},
   "source": [
    "# Make DataFrame of multiple playlists"
   ]
  },
  {
   "cell_type": "code",
   "execution_count": null,
   "id": "9223cde3",
   "metadata": {},
   "outputs": [],
   "source": [
    "playlist_dict = {\n",
    "    \"\"\" \"playlist_2005\" : (\"sp\", playlist_2005), \"\"\"\n",
    "    \"playlist_2006\" : (\"sp\", playlist_2006),\n",
    "    \"playlist_2007\" : (\"sp\", playlist_2007),\n",
    "    \"playlist_2008\" : (\"sp\", playlist_2008),\n",
    "    \"playlist_2009\" : (\"sp\", playlist_2009),\n",
    "    \"playlist_2010\" : (\"sp\", playlist_2010),  \n",
    "    \"playlist_2011\" : (\"sp\", playlist_2011), \n",
    "    \"playlist_2012\" : (\"sp\", playlist_2012),\n",
    "    \"playlist_2013\" : (\"sp\", playlist_2013),\n",
    "    \"playlist_2014\" : (\"sp\", playlist_2014),\n",
    "    \"playlist_2015\" : (\"sp\", playlist_2015),\n",
    "    \"playlist_2016\" : (\"sp\", playlist_2016),\n",
    "    \"playlist_2017\" : (\"sp\", playlist_2017),\n",
    "    \"playlist_2018\" : (\"sp\", playlist_2018),\n",
    "    \"playlist_2019\" : (\"sp\", playlist_2019),\n",
    "    \"playlist_2020\" : (\"sp\", playlist_2020),\n",
    "    \"playlist_2021\" : (\"sp\", playlist_2021),\n",
    "    \"playlist_2022\" : (\"sp\", playlist_2022)\n",
    "}"
   ]
  },
  {
   "cell_type": "code",
   "execution_count": null,
   "id": "56929210",
   "metadata": {},
   "outputs": [],
   "source": [
    "def analyze_playlist_dict(playlist_dict):\n",
    "    \n",
    "    # Loop through every playlist in the dict and analyze it\n",
    "    for i, (key, val) in enumerate(playlist_dict.items()):\n",
    "        playlist_df = analyze_playlist(*val)\n",
    "        # Add a playlist column so that we can see which playlist a track belongs too\n",
    "        playlist_df[\"playlist\"] = key\n",
    "        # Create or concat df\n",
    "        if i == 0:\n",
    "            playlist_dict_df = playlist_df\n",
    "        else:\n",
    "            playlist_dict_df = pd.concat([playlist_dict_df, playlist_df], ignore_index = True)\n",
    "            \n",
    "    return playlist_dict_df"
   ]
  },
  {
   "cell_type": "code",
   "execution_count": null,
   "id": "f9f8dcbf",
   "metadata": {},
   "outputs": [],
   "source": [
    "def analyze_playlist_dict(playlist_dict):\n",
    "    \n",
    "    # Convert the dictionary of playlists to a list of tuples\n",
    "    playlist_list = list(playlist_dict.values())\n",
    "    \n",
    "    # Use list comprehension to analyze each playlist and store the resulting DataFrames in a list\n",
    "    playlist_dfs = [analyze_playlist(*playlist) for playlist in playlist_list]\n",
    "    \n",
    "    # Concatenate all the DataFrames in the list into a single DataFrame\n",
    "    playlist_dict_df = pd.concat(playlist_dfs, ignore_index=True)\n",
    "    \n",
    "    # Add a playlist column to the DataFrame indicating which playlist each track belongs to\n",
    "    playlist_dict_df['playlist'] = [key for key in playlist_dict.keys() for _ in range(len(playlist_dict[key]))]\n",
    "    \n",
    "    return playlist_dict_df"
   ]
  },
  {
   "cell_type": "code",
   "execution_count": null,
   "id": "5843020f",
   "metadata": {},
   "outputs": [],
   "source": [
    "Raw_data_df = analyze_playlist_dict(playlist_dict)"
   ]
  },
  {
   "cell_type": "code",
   "execution_count": null,
   "id": "700c68f8",
   "metadata": {},
   "outputs": [],
   "source": [
    "\n",
    "Raw_data_df.shape"
   ]
  },
  {
   "cell_type": "code",
   "execution_count": null,
   "id": "46ca5478",
   "metadata": {},
   "outputs": [],
   "source": [
    "Raw_data_df.head()"
   ]
  },
  {
   "attachments": {},
   "cell_type": "markdown",
   "id": "532e2af3",
   "metadata": {},
   "source": [
    "## Clean genres column"
   ]
  },
  {
   "cell_type": "code",
   "execution_count": null,
   "id": "dc9a3269",
   "metadata": {},
   "outputs": [],
   "source": [
    "df  = pd.DataFrame(Raw_data_df.genres.apply(lambda x: pd.Series(str(x).split(\"[\"))))\n",
    "df2 = df.replace(regex=[\"]\"],value='')\n",
    "df3 = df2.replace(regex=[\"'\"],value='')\n",
    "df4 = pd.DataFrame(df3.loc[:,1].apply(lambda x: pd.Series(str(x).split(\",\"))))\n",
    "df4.info()"
   ]
  },
  {
   "cell_type": "code",
   "execution_count": null,
   "id": "5d59ae00",
   "metadata": {},
   "outputs": [],
   "source": [
    "Raw_data_df[\"genres\"] = df4.loc[:,0]\n",
    "Raw_data_df[\"sub-genres\"] = df4.loc[:,1]\n",
    "Raw_data_df"
   ]
  },
  {
   "attachments": {},
   "cell_type": "markdown",
   "id": "5b928468",
   "metadata": {},
   "source": [
    "### Change order of columns"
   ]
  },
  {
   "cell_type": "code",
   "execution_count": null,
   "id": "49e0abfe",
   "metadata": {},
   "outputs": [],
   "source": [
    "Raw_data_df = Raw_data_df.loc[:,['artist', 'album', 'track_name', 'release_date', 'popularity', 'genres','sub-genres',\n",
    "       'explicit', 'followers', 'track_id', 'danceability', 'energy', 'key',\n",
    "       'loudness', 'mode', 'speechiness', 'instrumentalness', 'liveness',\n",
    "       'valence', 'tempo', 'duration_ms', 'time_signature', 'playlist']]"
   ]
  },
  {
   "attachments": {},
   "cell_type": "markdown",
   "id": "17a49e84",
   "metadata": {},
   "source": [
    "## Clean Other columns"
   ]
  },
  {
   "cell_type": "code",
   "execution_count": null,
   "id": "3b94414e",
   "metadata": {},
   "outputs": [],
   "source": [
    "Raw_data_df[\"mood\"] = [1 if i >= 0.5 else 0 for i in Raw_data_df.valence]\n",
    "Raw_data_df[\"liveness\"] = [1 if i >= 0.8 else 0 for i in Raw_data_df.liveness]\n",
    "Raw_data_df[\"explicit\"] = [1 if i == True else 0 for i in Raw_data_df.explicit]\n",
    "Raw_data_df[\"speechiness\"] = [1 if i > 0.66 else 0 for i in Raw_data_df.speechiness]\n",
    "Raw_data_df[\"instrumentalness\"] = [1 if i > 0.5 else 0 for i in Raw_data_df.instrumentalness]\n",
    "Raw_data_df[\"followers\"] = Raw_data_df[\"followers\"].astype(\"int64\")"
   ]
  },
  {
   "attachments": {},
   "cell_type": "markdown",
   "id": "06be49e1",
   "metadata": {},
   "source": [
    "# Analyze Raw data"
   ]
  },
  {
   "cell_type": "code",
   "execution_count": null,
   "id": "31c74be8",
   "metadata": {},
   "outputs": [],
   "source": [
    "Raw_data_df[\"playlist\"].value_counts()"
   ]
  },
  {
   "cell_type": "code",
   "execution_count": null,
   "id": "558c7e22",
   "metadata": {},
   "outputs": [],
   "source": [
    "Raw_data_df.shape"
   ]
  },
  {
   "cell_type": "code",
   "execution_count": null,
   "id": "3c9c52e7",
   "metadata": {},
   "outputs": [],
   "source": [
    "Raw_data_df.info()"
   ]
  },
  {
   "cell_type": "code",
   "execution_count": null,
   "id": "8c3ea06c",
   "metadata": {},
   "outputs": [],
   "source": [
    "Raw_data_df[Raw_data_df[\"artist\"]=='XXXTENTACION']"
   ]
  },
  {
   "cell_type": "code",
   "execution_count": null,
   "id": "306e859c",
   "metadata": {},
   "outputs": [],
   "source": [
    "top_artists = Raw_data_df.pivot_table(values = \"track_id\",index = \"artist\",aggfunc = 'count').sort_values(ascending=False,by=\"track_id\")\n",
    "\n",
    "top_artists.head(20).plot(kind=\"bar\")\n",
    "plt.title(\"Top 20 artists\")\n",
    "plt.show();"
   ]
  },
  {
   "cell_type": "code",
   "execution_count": null,
   "id": "8dd25781",
   "metadata": {},
   "outputs": [],
   "source": [
    "top_albums = Raw_data_df.pivot_table(values = \"track_id\",index = \"album\",aggfunc = 'count').sort_values(ascending=False,by=\"track_id\")\n",
    "\n",
    "top_albums.head(20).plot(kind=\"bar\")\n",
    "plt.title(\"Top 20 albums\")\n",
    "plt.show();"
   ]
  },
  {
   "cell_type": "code",
   "execution_count": null,
   "id": "21a64faa",
   "metadata": {},
   "outputs": [],
   "source": [
    "top_followers = Raw_data_df.pivot_table(values = \"followers\",index = \"artist\",aggfunc = 'mean').sort_values(ascending=False,by=\"followers\")\n",
    "\n",
    "top_followers.head(20).plot(kind=\"bar\")\n",
    "plt.title(\"Top 20 followers\")\n",
    "plt.show();"
   ]
  },
  {
   "cell_type": "code",
   "execution_count": null,
   "id": "940087fd",
   "metadata": {},
   "outputs": [],
   "source": [
    "Raw_data_df[\"popularity\"].hist(bins=10)\n",
    "plt.title(\"Popularity Distribution\")\n",
    "plt.show();\n",
    "\n",
    "Raw_data_df[\"energy\"].hist(bins=10)\n",
    "plt.title(\"Energy Distribution\")\n",
    "plt.show();\n",
    "\n",
    "Raw_data_df[\"danceability\"].hist(bins=10)\n",
    "plt.title(\"Danceability Distribution\")\n",
    "plt.show();\n",
    "\n",
    "Raw_data_df[\"loudness\"].hist(bins=10)\n",
    "plt.title(\"Loudness Distribution\")\n",
    "plt.show();\n",
    "\n",
    "Raw_data_df[\"tempo\"].hist(bins=10)\n",
    "plt.title(\"Tempo Distribution\")\n",
    "plt.show();\n",
    "\n",
    "Raw_data_df[\"key\"].hist(bins=10)\n",
    "plt.title(\"Key Distribution\")\n",
    "plt.show();"
   ]
  },
  {
   "cell_type": "code",
   "execution_count": null,
   "id": "1e85e17d",
   "metadata": {},
   "outputs": [],
   "source": [
    "sns.countplot(data=Raw_data_df, x =\"mood\")\n",
    "plt.title(\"Mood Distribution\")\n",
    "plt.show();\n",
    "\n",
    "sns.countplot(data=Raw_data_df, x =\"liveness\")\n",
    "plt.title(\"Liveness Distribution\")\n",
    "plt.show();\n",
    "\n",
    "sns.countplot(data=Raw_data_df, x =\"explicit\")\n",
    "plt.title(\"Explicit Distribution\")\n",
    "plt.show();\n",
    "\n",
    "sns.countplot(data=Raw_data_df, x =\"mode\")\n",
    "plt.title(\"Mode Distribution\")\n",
    "plt.show();\n",
    "\n",
    "sns.countplot(data=Raw_data_df, x =\"time_signature\")\n",
    "plt.title(\"time_signature Distribution\")\n",
    "plt.show();\n",
    "\n",
    "sns.countplot(data=Raw_data_df, x =\"speechiness\")\n",
    "plt.title(\"speechiness Distribution\")\n",
    "plt.show();\n",
    "\n",
    "sns.countplot(data=Raw_data_df, x =\"instrumentalness\")\n",
    "plt.title(\"instrumentalness Distribution\")\n",
    "plt.show();"
   ]
  },
  {
   "cell_type": "code",
   "execution_count": null,
   "id": "775cc97b",
   "metadata": {},
   "outputs": [],
   "source": [
    "sns.catplot(data=Raw_data_df, x=\"duration_ms\", kind='box')\n",
    "plt.title(\"Duration Dispersion\")\n",
    "plt.show();"
   ]
  },
  {
   "attachments": {},
   "cell_type": "markdown",
   "id": "d750dea9",
   "metadata": {},
   "source": [
    "# Drop columns"
   ]
  },
  {
   "cell_type": "code",
   "execution_count": null,
   "id": "e5413943",
   "metadata": {},
   "outputs": [],
   "source": [
    "Raw_data_df = Raw_data_df.drop(columns = [\"valence\"],axis = 1)"
   ]
  },
  {
   "attachments": {},
   "cell_type": "markdown",
   "id": "4bd8a1d9",
   "metadata": {},
   "source": [
    "# Export to csv"
   ]
  },
  {
   "cell_type": "code",
   "execution_count": null,
   "id": "0d3d6f84",
   "metadata": {},
   "outputs": [],
   "source": [
    "Raw_data_df.to_csv(\"C:/Users/willi/Python/Spotify_Project/Data/raw_data_test.csv\", index = False)"
   ]
  }
 ],
 "metadata": {
  "kernelspec": {
   "display_name": "mlops",
   "language": "python",
   "name": "python3"
  },
  "language_info": {
   "codemirror_mode": {
    "name": "ipython",
    "version": 3
   },
   "file_extension": ".py",
   "mimetype": "text/x-python",
   "name": "python",
   "nbconvert_exporter": "python",
   "pygments_lexer": "ipython3",
   "version": "3.11.3"
  }
 },
 "nbformat": 4,
 "nbformat_minor": 5
}
