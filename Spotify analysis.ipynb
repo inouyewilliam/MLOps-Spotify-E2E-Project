{
 "cells": [
  {
   "cell_type": "markdown",
   "id": "6db0d9e9",
   "metadata": {},
   "source": [
    "# Import libraries"
   ]
  },
  {
   "cell_type": "code",
   "execution_count": 1,
   "id": "52a0d249",
   "metadata": {},
   "outputs": [
    {
     "name": "stdout",
     "output_type": "stream",
     "text": [
      "Collecting spotipy\n",
      "  Downloading spotipy-2.22.0-py3-none-any.whl (28 kB)\n",
      "Requirement already satisfied: urllib3>=1.26.0 in c:\\users\\willi\\anaconda3\\lib\\site-packages (from spotipy) (1.26.13)\n",
      "Requirement already satisfied: six>=1.15.0 in c:\\users\\willi\\anaconda3\\lib\\site-packages (from spotipy) (1.16.0)\n",
      "Requirement already satisfied: requests>=2.25.0 in c:\\users\\willi\\anaconda3\\lib\\site-packages (from spotipy) (2.28.1)\n",
      "Requirement already satisfied: redis>=3.5.3 in c:\\users\\willi\\anaconda3\\lib\\site-packages (from spotipy) (4.3.5)\n",
      "Requirement already satisfied: async-timeout>=4.0.2 in c:\\users\\willi\\anaconda3\\lib\\site-packages (from redis>=3.5.3->spotipy) (4.0.2)\n",
      "Requirement already satisfied: packaging>=20.4 in c:\\users\\willi\\anaconda3\\lib\\site-packages (from redis>=3.5.3->spotipy) (21.3)\n",
      "Requirement already satisfied: charset-normalizer<3,>=2 in c:\\users\\willi\\anaconda3\\lib\\site-packages (from requests>=2.25.0->spotipy) (2.0.4)\n",
      "Requirement already satisfied: certifi>=2017.4.17 in c:\\users\\willi\\anaconda3\\lib\\site-packages (from requests>=2.25.0->spotipy) (2022.9.24)\n",
      "Requirement already satisfied: idna<4,>=2.5 in c:\\users\\willi\\anaconda3\\lib\\site-packages (from requests>=2.25.0->spotipy) (3.4)\n",
      "Requirement already satisfied: pyparsing!=3.0.5,>=2.0.2 in c:\\users\\willi\\anaconda3\\lib\\site-packages (from packaging>=20.4->redis>=3.5.3->spotipy) (3.0.9)\n",
      "Installing collected packages: spotipy\n",
      "Successfully installed spotipy-2.22.0\n"
     ]
    },
    {
     "name": "stderr",
     "output_type": "stream",
     "text": [
      "WARNING: Ignoring invalid distribution -illow (c:\\users\\willi\\anaconda3\\lib\\site-packages)\n",
      "WARNING: Ignoring invalid distribution -illow (c:\\users\\willi\\anaconda3\\lib\\site-packages)\n",
      "WARNING: Ignoring invalid distribution -illow (c:\\users\\willi\\anaconda3\\lib\\site-packages)\n",
      "WARNING: Ignoring invalid distribution -illow (c:\\users\\willi\\anaconda3\\lib\\site-packages)\n",
      "WARNING: Ignoring invalid distribution -illow (c:\\users\\willi\\anaconda3\\lib\\site-packages)\n",
      "WARNING: Ignoring invalid distribution -illow (c:\\users\\willi\\anaconda3\\lib\\site-packages)\n",
      "WARNING: Ignoring invalid distribution -illow (c:\\users\\willi\\anaconda3\\lib\\site-packages)\n"
     ]
    }
   ],
   "source": [
    "!pip install spotipy"
   ]
  },
  {
   "cell_type": "code",
   "execution_count": 6,
   "id": "4ba2c759",
   "metadata": {},
   "outputs": [],
   "source": [
    "import requests\n",
    "import pandas as pd \n",
    "import json\n",
    "\n",
    "\n",
    "%matplotlib inline\n",
    "import matplotlib.pyplot as plt\n",
    "import seaborn as sns\n",
    "\n",
    "import spotipy\n",
    "import sys\n",
    "from spotipy.oauth2 import SpotifyClientCredentials"
   ]
  },
  {
   "cell_type": "markdown",
   "id": "49be1341",
   "metadata": {},
   "source": [
    "# Get acess to the API"
   ]
  },
  {
   "cell_type": "code",
   "execution_count": 3,
   "id": "c66491d6",
   "metadata": {},
   "outputs": [],
   "source": [
    "CLIENT_ID = 'b7ada85ebfa34adca690022ac029f189'\n",
    "CLIENT_SECRET = 'a8b888a8c9524536ad19406c887b7b20'"
   ]
  },
  {
   "cell_type": "code",
   "execution_count": 10,
   "id": "cd18c192",
   "metadata": {},
   "outputs": [
    {
     "name": "stdout",
     "output_type": "stream",
     "text": [
      "POWER UP\n",
      "Rock or Bust\n",
      "Live at River Plate\n",
      "Black Ice\n",
      "Stiff Upper Lip\n",
      "Ballbreaker\n",
      "Live\n",
      "Live (Collector's Edition)\n",
      "The Razors Edge\n",
      "Blow Up Your Video\n",
      "Who Made Who\n",
      "Fly On the Wall\n",
      "Flick of the Switch\n",
      "For Those About to Rock (We Salute You)\n",
      "Back In Black\n",
      "Highway to Hell\n",
      "If You Want Blood You've Got It (Live)\n",
      "Powerage\n",
      "Let There Be Rock\n",
      "Dirty Deeds Done Dirt Cheap\n",
      "High Voltage\n"
     ]
    }
   ],
   "source": [
    "acdc_uri = 'https://open.spotify.com/artist/711MCceyCBcFnzjGY4Q7Un?si=Ns-LMoiuQDe_C1zSPt8PUg'\n",
    "spotify = spotipy.Spotify(client_credentials_manager=SpotifyClientCredentials(client_id=CLIENT_ID,client_secret=CLIENT_SECRET))\n",
    "\n",
    "results = spotify.artist_albums(acdc_uri, album_type='album')\n",
    "albums = results['items']\n",
    "while results['next']:\n",
    "    results = spotify.next(results)\n",
    "    albums.extend(results['items'])\n",
    "\n",
    "for album in albums:\n",
    "    print(album['name'])"
   ]
  },
  {
   "cell_type": "code",
   "execution_count": 9,
   "id": "477bb0b5",
   "metadata": {},
   "outputs": [
    {
     "name": "stdout",
     "output_type": "stream",
     "text": [
      "track    : Highway to Hell\n",
      "audio    : https://p.scdn.co/mp3-preview/3589df13595d1ab1a2667db423b76c7e1e86ed73?cid=b7ada85ebfa34adca690022ac029f189\n",
      "cover art: https://i.scdn.co/image/ab67616d0000b27351c02a77d09dfcd53c8676d0\n",
      "\n",
      "track    : Back In Black\n",
      "audio    : https://p.scdn.co/mp3-preview/41f8586f16bc642b45122e52041143789a8e00c0?cid=b7ada85ebfa34adca690022ac029f189\n",
      "cover art: https://i.scdn.co/image/ab67616d0000b2730b51f8d91f3a21e8426361ae\n",
      "\n",
      "track    : Thunderstruck\n",
      "audio    : https://p.scdn.co/mp3-preview/01b367e5b8032faf123793fe7c1c5e7daf4cc7ed?cid=b7ada85ebfa34adca690022ac029f189\n",
      "cover art: https://i.scdn.co/image/ab67616d0000b2738399047ff71200928f5b6508\n",
      "\n",
      "track    : You Shook Me All Night Long\n",
      "audio    : https://p.scdn.co/mp3-preview/ca7869f25dd152e58aa5a37addf6d44f7da1fe21?cid=b7ada85ebfa34adca690022ac029f189\n",
      "cover art: https://i.scdn.co/image/ab67616d0000b2730b51f8d91f3a21e8426361ae\n",
      "\n",
      "track    : T.N.T.\n",
      "audio    : https://p.scdn.co/mp3-preview/724a59c766540784b7e4f3c42384077dc6b940f7?cid=b7ada85ebfa34adca690022ac029f189\n",
      "cover art: https://i.scdn.co/image/ab67616d0000b273286a0837ff3424065a735e0a\n",
      "\n",
      "track    : Hells Bells\n",
      "audio    : https://p.scdn.co/mp3-preview/09288fbe4af0cb6285e668b720d4d511c7903404?cid=b7ada85ebfa34adca690022ac029f189\n",
      "cover art: https://i.scdn.co/image/ab67616d0000b2730b51f8d91f3a21e8426361ae\n",
      "\n",
      "track    : Dirty Deeds Done Dirt Cheap\n",
      "audio    : https://p.scdn.co/mp3-preview/89b1321891a393915cbcfc50de4e3ed3ff462ebb?cid=b7ada85ebfa34adca690022ac029f189\n",
      "cover art: https://i.scdn.co/image/ab67616d0000b27368b03027356fb05501948f62\n",
      "\n",
      "track    : Shoot to Thrill\n",
      "audio    : https://p.scdn.co/mp3-preview/d573c9546bde51fec4738c55c3168da7a77b6a20?cid=b7ada85ebfa34adca690022ac029f189\n",
      "cover art: https://i.scdn.co/image/ab67616d0000b2730b51f8d91f3a21e8426361ae\n",
      "\n",
      "track    : It's a Long Way to the Top (If You Wanna Rock 'N' Roll)\n",
      "audio    : https://p.scdn.co/mp3-preview/bf40053ffd94309d3e523c9aa520f0f376e32f7a?cid=b7ada85ebfa34adca690022ac029f189\n",
      "cover art: https://i.scdn.co/image/ab67616d0000b273286a0837ff3424065a735e0a\n",
      "\n",
      "track    : Rock N Roll Train\n",
      "audio    : https://p.scdn.co/mp3-preview/461d1958b88bba403b7e184991ed44a1dcb20eb8?cid=b7ada85ebfa34adca690022ac029f189\n",
      "cover art: https://i.scdn.co/image/ab67616d0000b273107d182a8d39586f8f3f23a0\n",
      "\n"
     ]
    }
   ],
   "source": [
    "acdc_uri = 'https://open.spotify.com/artist/711MCceyCBcFnzjGY4Q7Un?si=Ns-LMoiuQDe_C1zSPt8PUg'\n",
    "\n",
    "spotify = spotipy.Spotify(client_credentials_manager=SpotifyClientCredentials(client_id=CLIENT_ID,\n",
    "                                                                              client_secret=CLIENT_SECRET))\n",
    "results = spotify.artist_top_tracks(acdc_uri)\n",
    "\n",
    "for track in results['tracks'][:10]:\n",
    "    print('track    : ' + track['name'])\n",
    "    print('audio    : ' + track['preview_url'])\n",
    "    print('cover art: ' + track['album']['images'][0]['url'])\n",
    "    print()"
   ]
  },
  {
   "cell_type": "code",
   "execution_count": 23,
   "id": "10c24cdf",
   "metadata": {},
   "outputs": [
    {
     "name": "stdout",
     "output_type": "stream",
     "text": [
      "0 Shakira: Bzrp Music Sessions, Vol. 53\n",
      "1 Monotonía\n",
      "2 Shakira!\n",
      "3 Hips Don't Lie (feat. Wyclef Jean)\n",
      "4 Chantaje (feat. Maluma)\n",
      "5 Te Felicito\n",
      "6 Suerte (Whenever, Wherever)\n",
      "7 Waka Waka (This Time for Africa) [The Official 2010 FIFA World Cup (TM) Song] (feat. Freshlyground)\n",
      "8 Whenever, Wherever\n",
      "9 Inevitable\n",
      "10 Loba\n",
      "11 Clandestino\n",
      "12 She Wolf\n",
      "13 Antologia\n",
      "14 Waka Waka (This Time for Africa) - K-Mix\n",
      "15 Can't Remember to Forget You (feat. Rihanna)\n",
      "16 Try Everything\n",
      "17 Loca (feat. El Cata)\n",
      "18 Rabiosa (feat. Pitbull)\n",
      "19 DON'T YOU WORRY\n",
      "20 La Tortura (feat. Alejandro Sanz)\n",
      "21 Underneath Your Clothes\n",
      "22 Mi Verdad (feat. Shakira)\n",
      "23 Amarillo\n",
      "24 GIRL LIKE ME\n",
      "25 Rabiosa (feat. El Cata)\n",
      "26 La Bicicleta\n",
      "27 Try Everything - From \"Zootropolis\"\n",
      "28 Ciega, Sordomuda\n",
      "29 La La La (Brazil 2014) (feat. Carlinhos Brown)\n",
      "30 Dia de Enero\n",
      "31 Shakira\n",
      "32 Antologia\n",
      "33 Estoy Aquí\n",
      "34 Deja vu\n",
      "35 Inevitable\n",
      "36 Me Gusta\n",
      "37 Perro Fiel (feat. Nicky Jam)\n",
      "38 Objection (Tango)\n",
      "39 Waka Waka (Esto Es Africa) - K-Mix\n",
      "40 DON'T YOU WORRY\n",
      "41 Me Enamoré\n",
      "42 Las de la Intuición\n",
      "43 Loca (feat. Dizzee Rascal)\n",
      "44 Beautiful Liar\n",
      "45 Si Te Vas\n",
      "46 TO' ESTO ES TUYO\n",
      "47 Tú\n",
      "48 Suerte (Whenever, Wherever)\n",
      "49 Can't Remember to Forget You (feat. Rihanna)\n"
     ]
    }
   ],
   "source": [
    "sp = spotipy.Spotify(auth_manager=SpotifyClientCredentials(client_id=CLIENT_ID,\n",
    "                                                           client_secret=CLIENT_SECRET))\n",
    "\n",
    "results = sp.search(q='Shakira', limit=50)\n",
    "for idx, track in enumerate(results['tracks']['items']):\n",
    "    print(idx, track['name'])"
   ]
  },
  {
   "cell_type": "code",
   "execution_count": 25,
   "id": "dec1c980",
   "metadata": {},
   "outputs": [],
   "source": [
    "from collections import defaultdict\n",
    "\n",
    "sp = spotipy.Spotify(auth_manager=SpotifyClientCredentials(client_id=CLIENT_ID,\n",
    "                                                           client_secret=CLIENT_SECRET))\n",
    "\n",
    "\n",
    "def find_song(name, year):\n",
    "    song_data = defaultdict()\n",
    "    results = sp.search(q= 'track: {} year: {}'.format(name,year), limit=1)\n",
    "    if results['tracks']['items'] == []:\n",
    "        return None\n",
    "\n",
    "    results = results['tracks']['items'][0]\n",
    "    track_id = results['id']\n",
    "    audio_features = sp.audio_features(track_id)[0]\n",
    "\n",
    "    song_data['name'] = [name]\n",
    "    song_data['year'] = [year]\n",
    "    song_data['explicit'] = [int(results['explicit'])]\n",
    "    song_data['duration_ms'] = [results['duration_ms']]\n",
    "    song_data['popularity'] = [results['popularity']]\n",
    "\n",
    "    for key, value in audio_features.items():\n",
    "        song_data[key] = value\n",
    "\n",
    "    return pd.DataFrame(song_data)"
   ]
  },
  {
   "cell_type": "code",
   "execution_count": 26,
   "id": "ad6a563b",
   "metadata": {},
   "outputs": [],
   "source": []
  },
  {
   "cell_type": "code",
   "execution_count": null,
   "id": "fcf3c51b",
   "metadata": {},
   "outputs": [],
   "source": []
  },
  {
   "cell_type": "code",
   "execution_count": null,
   "id": "ac22d5db",
   "metadata": {},
   "outputs": [],
   "source": []
  },
  {
   "cell_type": "code",
   "execution_count": 3,
   "id": "7f0e5758",
   "metadata": {},
   "outputs": [],
   "source": [
    "AUTH_URL = 'https://accounts.spotify.com/api/token'\n",
    "\n",
    "# POST\n",
    "auth_response = requests.post(AUTH_URL, {\n",
    "    'grant_type': 'client_credentials',\n",
    "    'client_id': CLIENT_ID,\n",
    "    'client_secret': CLIENT_SECRET,\n",
    "})\n",
    "\n",
    "# convert the response to JSON\n",
    "auth_response_data = auth_response.json()\n",
    "\n",
    "# save the access token\n",
    "access_token = auth_response_data['access_token']"
   ]
  },
  {
   "cell_type": "markdown",
   "id": "f7d90958",
   "metadata": {},
   "source": [
    "# Chose the endpoints"
   ]
  },
  {
   "cell_type": "code",
   "execution_count": 4,
   "id": "b6eb0fb1",
   "metadata": {},
   "outputs": [],
   "source": [
    "headers = {\n",
    "    'Authorization': 'Bearer {token}'.format(token=access_token)\n",
    "}\n",
    "\n",
    "url = 'https://api.spotify.com/v1/'\n",
    "track_id = '6y0igZArWVi6Iz0rj35c1Y'"
   ]
  },
  {
   "cell_type": "markdown",
   "id": "b20ec806",
   "metadata": {},
   "source": [
    "# Make a request"
   ]
  },
  {
   "cell_type": "code",
   "execution_count": 5,
   "id": "83add09c",
   "metadata": {},
   "outputs": [],
   "source": [
    "r = requests.get(url + 'audio-features/' + track_id, headers=headers)"
   ]
  },
  {
   "cell_type": "code",
   "execution_count": 6,
   "id": "48740e79",
   "metadata": {},
   "outputs": [
    {
     "name": "stdout",
     "output_type": "stream",
     "text": [
      "{\n",
      "  \"danceability\" : 0.540,\n",
      "  \"energy\" : 0.590,\n",
      "  \"key\" : 0,\n",
      "  \"loudness\" : -4.359,\n",
      "  \"mode\" : 1,\n",
      "  \"speechiness\" : 0.0528,\n",
      "  \"acousticness\" : 0.446,\n",
      "  \"instrumentalness\" : 0,\n",
      "  \"liveness\" : 0.140,\n",
      "  \"valence\" : 0.267,\n",
      "  \"tempo\" : 119.878,\n",
      "  \"type\" : \"audio_features\",\n",
      "  \"id\" : \"6y0igZArWVi6Iz0rj35c1Y\",\n",
      "  \"uri\" : \"spotify:track:6y0igZArWVi6Iz0rj35c1Y\",\n",
      "  \"track_href\" : \"https://api.spotify.com/v1/tracks/6y0igZArWVi6Iz0rj35c1Y\",\n",
      "  \"analysis_url\" : \"https://api.spotify.com/v1/audio-analysis/6y0igZArWVi6Iz0rj35c1Y\",\n",
      "  \"duration_ms\" : 234910,\n",
      "  \"time_signature\" : 4\n",
      "}\n"
     ]
    }
   ],
   "source": [
    "print(r.text)"
   ]
  },
  {
   "cell_type": "markdown",
   "id": "af9afdbe",
   "metadata": {},
   "source": [
    "# Transform to JSON data"
   ]
  },
  {
   "cell_type": "code",
   "execution_count": 12,
   "id": "130cd4f7",
   "metadata": {},
   "outputs": [],
   "source": [
    "json_data = r.json()"
   ]
  },
  {
   "cell_type": "code",
   "execution_count": 13,
   "id": "9ec2ad1a",
   "metadata": {},
   "outputs": [
    {
     "name": "stdout",
     "output_type": "stream",
     "text": [
      "danceability:  0.54\n",
      "energy:  0.59\n",
      "key:  0\n",
      "loudness:  -4.359\n",
      "mode:  1\n",
      "speechiness:  0.0528\n",
      "acousticness:  0.446\n",
      "instrumentalness:  0\n",
      "liveness:  0.14\n",
      "valence:  0.267\n",
      "tempo:  119.878\n",
      "type:  audio_features\n",
      "id:  6y0igZArWVi6Iz0rj35c1Y\n",
      "uri:  spotify:track:6y0igZArWVi6Iz0rj35c1Y\n",
      "track_href:  https://api.spotify.com/v1/tracks/6y0igZArWVi6Iz0rj35c1Y\n",
      "analysis_url:  https://api.spotify.com/v1/audio-analysis/6y0igZArWVi6Iz0rj35c1Y\n",
      "duration_ms:  234910\n",
      "time_signature:  4\n"
     ]
    }
   ],
   "source": [
    "for k in json_data.keys():\n",
    "    print(k + ': ', json_data[k])"
   ]
  },
  {
   "cell_type": "code",
   "execution_count": null,
   "id": "3dce6bf3",
   "metadata": {},
   "outputs": [],
   "source": []
  }
 ],
 "metadata": {
  "kernelspec": {
   "display_name": "Python 3 (ipykernel)",
   "language": "python",
   "name": "python3"
  },
  "language_info": {
   "codemirror_mode": {
    "name": "ipython",
    "version": 3
   },
   "file_extension": ".py",
   "mimetype": "text/x-python",
   "name": "python",
   "nbconvert_exporter": "python",
   "pygments_lexer": "ipython3",
   "version": "3.8.5"
  }
 },
 "nbformat": 4,
 "nbformat_minor": 5
}
